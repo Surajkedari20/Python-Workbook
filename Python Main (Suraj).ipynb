{
 "cells": [
  {
   "cell_type": "markdown",
   "id": "36b07707-9635-43a1-9bb7-6d2a5da55aff",
   "metadata": {},
   "source": [
    "# Introduction Of Python."
   ]
  },
  {
   "cell_type": "markdown",
   "id": "e6e5e773-4e37-43a2-980d-8527586ec991",
   "metadata": {},
   "source": [
    "### Aim"
   ]
  },
  {
   "cell_type": "markdown",
   "id": "dda86518-1e14-46c9-9d3f-2ff2c7cc9f21",
   "metadata": {},
   "source": [
    "Get acquainted with Python and set up the development \r\n",
    "environment."
   ]
  },
  {
   "cell_type": "markdown",
   "id": "c0c483db-b132-43bb-b13c-f6ecafa71570",
   "metadata": {},
   "source": [
    "### Resources"
   ]
  },
  {
   "cell_type": "markdown",
   "id": "3753ce51-48e2-49ac-be84-22e292d71705",
   "metadata": {},
   "source": [
    "Python Official Documentation:  ",
    "\n",
    "https://www.python.org/doc"
   ]
  },
  {
   "cell_type": "markdown",
   "id": "1c64fed5-de5e-4420-9198-2cb1f1136c86",
   "metadata": {},
   "source": [
    "Codecademy Python Course:  ",
    "\n",
    "https://www.codecademy.com/learn/learn-python-3"
   ]
  },
  {
   "cell_type": "markdown",
   "id": "8b39b452-bf22-43c4-b4e2-19b4e0f6f90d",
   "metadata": {},
   "source": [
    "### What is Python?\n",
    "Python is a popular programming language. It was created by Guido van Rossum, and released in 1991.\n",
    "\n",
    "It is used for:\n",
    "\n",
    "* web development (server-side)\n",
    "* software development\n",
    "* mathematics\n",
    "* system scripting"
   ]
  },
  {
   "cell_type": "markdown",
   "id": "e0def5cf-f58d-4f8a-a102-e6faee4e9d60",
   "metadata": {},
   "source": [
    "### What can Python do?\n",
    "* Python can be used on a server to create web applications.\n",
    "* Python can be used alongside software to create workflows.\n",
    "* Python can connect to database systems. It can also read and modify files.\n",
    "* Python can be used to handle big data and perform complex mathematics.\n",
    "* Python can be used for rapid prototyping, or for production-ready software development."
   ]
  },
  {
   "cell_type": "markdown",
   "id": "5912430a-f1af-4421-bdd1-9cc3bb157909",
   "metadata": {},
   "source": [
    "### Why Python?\n",
    "* Python works on different platforms (Windows, Mac, Linux, Raspberry Pi, etc).\n",
    "* Python has a simple syntax similar to the English language.\n",
    "* Python has syntax that allows developers to write programs with fewer lines than some other programming languages.\n",
    "* Python runs on an interpreter system, meaning that code can be executed as soon as it is written. This means that prototyping can be very quick.\n",
    "* Python can be treated in a procedural way, an object-oriented way or a functional way.ing"
   ]
  },
  {
   "cell_type": "markdown",
   "id": "825df273-c46d-486c-ac51-f8b9647b952a",
   "metadata": {},
   "source": [
    "### Python Syntax compared to other programming languages\n",
    "* Python was designed for readability, and has some similarities to the English language with influence from mathematics.\n",
    "* Python uses new lines to complete a command, as opposed to other programming languages which often use semicolons or parentheses.\n",
    "* Python relies on indentation, using whitespace, to define scope; such as the scope of loops, functions and classes. Other programming languages often use curly-brackets for this purpose."
   ]
  },
  {
   "cell_type": "markdown",
   "id": "0c6fdd81-7f99-4425-93e2-fdb10c817b4c",
   "metadata": {},
   "source": [
    "## Problem Question"
   ]
  },
  {
   "cell_type": "code",
   "execution_count": 4,
   "id": "f6918b32-efa6-496b-b306-095e94a93b98",
   "metadata": {},
   "outputs": [
    {
     "name": "stdout",
     "output_type": "stream",
     "text": [
      "Hello, World...!\n"
     ]
    }
   ],
   "source": [
    "#My First code\n",
    "print (\"Hello, World...!\")"
   ]
  },
  {
   "cell_type": "markdown",
   "id": "fdb6576a-55e7-4f09-a0ed-1fb07206b8ad",
   "metadata": {},
   "source": [
    "# Variables And Data Types"
   ]
  },
  {
   "cell_type": "markdown",
   "id": "552f058f-9d1b-4933-8523-bd030ed69e47",
   "metadata": {},
   "source": [
    "## Aim\n",
    "\n",
    "Understand variables and different data types in Python."
   ]
  },
  {
   "cell_type": "markdown",
   "id": "061cb492-96ed-472c-97b8-c25423881d1c",
   "metadata": {},
   "source": [
    "## Resources\n",
    "\n",
    "*  W3Schools Python Variables:  ",
    "\n",
    "https://www.w3schools.com/python/\n",
    "python_variables.as#\n",
    "\n",
    "* Real Python Data Types:  ",
    "\n",
    "https://realpython.com/python-data-types/\n"
   ]
  },
  {
   "cell_type": "markdown",
   "id": "6fde1386-9cf4-4c00-894b-1d70187ca8de",
   "metadata": {},
   "source": [
    "## Python Data Types\n",
    "1. Numeric data types: int, float, complex.\n",
    "2. String data types: str.\n",
    "3. Sequence types: list, tuple, range.\n",
    "4. Binary types: bytes, bytearray, memoryview.\n",
    "5. Mapping data type: dict.\n",
    "6. Boolean type: bool.\n",
    "7. Set data types: set, frozenset."
   ]
  },
  {
   "cell_type": "markdown",
   "id": "6d6883e5-de31-4997-8ef5-3d45fdf70676",
   "metadata": {},
   "source": [
    "Q 1: Calculate the sum of two numbers entered by the user."
   ]
  },
  {
   "cell_type": "code",
   "execution_count": 5,
   "id": "8f89ae86-6a63-48cd-af6c-c7d905e91a9c",
   "metadata": {},
   "outputs": [
    {
     "name": "stdin",
     "output_type": "stream",
     "text": [
      "Enter the first number:  12\n",
      "Enter the second number:  20\n"
     ]
    },
    {
     "name": "stdout",
     "output_type": "stream",
     "text": [
      "The sum of 12.0 and 20.0 is: 32.0\n"
     ]
    }
   ],
   "source": [
    "# Get input from the user\n",
    "num1 = float(input(\"Enter the first number: \"))\n",
    "num2 = float(input(\"Enter the second number: \"))\n",
    "\n",
    "# Calculate the sum\n",
    "sum_result = num1 + num2\n",
    "\n",
    "# Display the result\n",
    "print(\"The sum of\", num1, \"and\", num2, \"is:\", sum_result)\n"
   ]
  },
  {
   "cell_type": "markdown",
   "id": "f43419c5-b928-43b1-8c9e-29c4dcbe5a1b",
   "metadata": {},
   "source": [
    "Q 2: Convert temperature from Celsius to Fahrenheit."
   ]
  },
  {
   "cell_type": "code",
   "execution_count": 6,
   "id": "45ea82ca-4171-4d70-b289-c238a3120ce8",
   "metadata": {},
   "outputs": [
    {
     "name": "stdin",
     "output_type": "stream",
     "text": [
      "Enter the temperature in Celsius:  21\n"
     ]
    },
    {
     "name": "stdout",
     "output_type": "stream",
     "text": [
      "Temperature in Fahrenheit: 69.8\n"
     ]
    }
   ],
   "source": [
    "# Get input from the user\n",
    "celsius = float(input(\"Enter the temperature in Celsius: \"))\n",
    "\n",
    "# Convert Celsius to Fahrenheit\n",
    "fahrenheit = (celsius * 9/5) + 32\n",
    "\n",
    "# Display the result\n",
    "print(\"Temperature in Fahrenheit:\", fahrenheit)\n"
   ]
  },
  {
   "cell_type": "markdown",
   "id": "89a8e08f-d4fc-4d4b-8587-0da8b0498080",
   "metadata": {},
   "source": [
    "### Keyworrd List\n"
   ]
  },
  {
   "cell_type": "code",
   "execution_count": 2,
   "id": "72f442b3-ae5c-4738-ba2f-909893b0c692",
   "metadata": {},
   "outputs": [
    {
     "name": "stdout",
     "output_type": "stream",
     "text": [
      "['False', 'None', 'True', 'and', 'as', 'assert', 'async', 'await', 'break', 'class', 'continue', 'def', 'del', 'elif', 'else', 'except', 'finally', 'for', 'from', 'global', 'if', 'import', 'in', 'is', 'lambda', 'nonlocal', 'not', 'or', 'pass', 'raise', 'return', 'try', 'while', 'with', 'yield']\n"
     ]
    },
    {
     "data": {
      "text/plain": [
       "35"
      ]
     },
     "execution_count": 2,
     "metadata": {},
     "output_type": "execute_result"
    }
   ],
   "source": [
    "import keyword\n",
    "print (keyword.kwlist)\n",
    "len (keyword.kwlist)"
   ]
  },
  {
   "cell_type": "markdown",
   "id": "96b338de-41a4-448e-96fd-d73196a4775a",
   "metadata": {},
   "source": [
    "### Practice Question For Python"
   ]
  },
  {
   "cell_type": "markdown",
   "id": "20f83bce-d82a-4d8d-a6af-630b65fddad4",
   "metadata": {},
   "source": [
    "1. Write a Python program to calculate the area of a \r\n",
    "rectangle given its length and width\u001a"
   ]
  },
  {
   "cell_type": "code",
   "execution_count": 3,
   "id": "4d027367-aea1-40e8-93fd-1cc0d184dc68",
   "metadata": {},
   "outputs": [
    {
     "name": "stdin",
     "output_type": "stream",
     "text": [
      "Enter the length of the rectangle:  5\n",
      "Enter the width of the rectangle:  10\n"
     ]
    },
    {
     "name": "stdout",
     "output_type": "stream",
     "text": [
      "The area of the rectangle is: 50.0\n"
     ]
    }
   ],
   "source": [
    "# Get input from the user\n",
    "length = float(input(\"Enter the length of the rectangle: \"))\n",
    "width = float(input(\"Enter the width of the rectangle: \"))\n",
    "\n",
    "# Calculate the area\n",
    "area = length * width\n",
    "\n",
    "# Display the result\n",
    "print(\"The area of the rectangle is:\", area)\n"
   ]
  },
  {
   "cell_type": "markdown",
   "id": "1dffdaa7-1e34-4315-973d-e4779388f77c",
   "metadata": {},
   "source": [
    "2. Create a program that takes a user's name and age as \r\n",
    "input and prints a greeting message\u001a"
   ]
  },
  {
   "cell_type": "code",
   "execution_count": 4,
   "id": "c5026cae-6d53-42d8-ad14-734ea9234615",
   "metadata": {},
   "outputs": [
    {
     "name": "stdin",
     "output_type": "stream",
     "text": [
      "Enter your name:  Suraj\n",
      "Enter your age:  21\n"
     ]
    },
    {
     "name": "stdout",
     "output_type": "stream",
     "text": [
      "Hello, Suraj! You are 21 years old.\n"
     ]
    }
   ],
   "source": [
    "# Get input from the user\n",
    "name = input(\"Enter your name: \")\n",
    "age = int(input(\"Enter your age: \"))\n",
    "\n",
    "# Greeting message\n",
    "greeting = f\"Hello, {name}! You are {age} years old.\"\n",
    "\n",
    "# Display the greeting\n",
    "print(greeting)\n"
   ]
  },
  {
   "cell_type": "markdown",
   "id": "7d43654c-123d-4968-8df1-9d6e5ed8ddba",
   "metadata": {},
   "source": [
    "## Example Question"
   ]
  },
  {
   "cell_type": "markdown",
   "id": "cd04f59a-982f-41c7-a4bd-13b1ed9e2ff2",
   "metadata": {},
   "source": [
    "1: Create variables for storing a person's name, age, and  ",
    "\r\n",
    " average test score."
   ]
  },
  {
   "cell_type": "code",
   "execution_count": 7,
   "id": "78b72702-ddb2-419d-ab64-e1678444ebbc",
   "metadata": {},
   "outputs": [
    {
     "name": "stdout",
     "output_type": "stream",
     "text": [
      "Person's Name: Suraj\n",
      "Person's Age: 21\n",
      "Average Test Score: 85.5\n"
     ]
    }
   ],
   "source": [
    "# Create variables\n",
    "person_name = \"Suraj\"\n",
    "person_age = 21\n",
    "average_test_score = 85.5\n",
    "\n",
    "# Display the variables\n",
    "print(\"Person's Name:\", person_name)\n",
    "print(\"Person's Age:\", person_age)\n",
    "print(\"Average Test Score:\", average_test_score)\n"
   ]
  },
  {
   "cell_type": "markdown",
   "id": "9acbf127-46e9-4dde-85f9-f062bfee0f1c",
   "metadata": {},
   "source": [
    "2: Concatenate two strings and print the result."
   ]
  },
  {
   "cell_type": "code",
   "execution_count": 8,
   "id": "4fba59f6-4c93-4f3a-9637-c0a079871811",
   "metadata": {},
   "outputs": [
    {
     "name": "stdout",
     "output_type": "stream",
     "text": [
      "Hello, world!\n"
     ]
    }
   ],
   "source": [
    "# Two strings\n",
    "string1 = \"Hello, \"\n",
    "string2 = \"world!\"\n",
    "\n",
    "# Concatenate strings\n",
    "result = string1 + string2\n",
    "\n",
    "# Display the result\n",
    "print(result)\n"
   ]
  },
  {
   "cell_type": "markdown",
   "id": "38c8f46b-81f9-4977-a800-41eba1038bae",
   "metadata": {},
   "source": [
    " 3: Create a list of fruits and access elements using  ",
    "\r\n",
    " indexing."
   ]
  },
  {
   "cell_type": "code",
   "execution_count": 9,
   "id": "db722f75-8c73-49ae-b3e7-06afe64bca38",
   "metadata": {},
   "outputs": [
    {
     "name": "stdout",
     "output_type": "stream",
     "text": [
      "First Fruit: apple\n",
      "Second Fruit: banana\n",
      "Third Fruit: orange\n"
     ]
    }
   ],
   "source": [
    "# Create a list of fruits\n",
    "fruits = [\"apple\", \"banana\", \"orange\", \"grape\", \"kiwi\"]\n",
    "\n",
    "# Access elements using indexing\n",
    "first_fruit = fruits[0]\n",
    "second_fruit = fruits[1]\n",
    "third_fruit = fruits[2]\n",
    "\n",
    "# Display the accessed elements\n",
    "print(\"First Fruit:\", first_fruit)\n",
    "print(\"Second Fruit:\", second_fruit)\n",
    "print(\"Third Fruit:\", third_fruit)\n"
   ]
  },
  {
   "cell_type": "markdown",
   "id": "a56d9cb2-81ba-4cb3-ba13-94b96b8c714a",
   "metadata": {},
   "source": [
    "## Identifying class/type of variable"
   ]
  },
  {
   "cell_type": "markdown",
   "id": "211b9f2b-7b6e-4c9c-a18f-d835cfa4b984",
   "metadata": {},
   "source": [
    "* When you run this script, it will print the type/class of each variable. The type() function returns the class/type of the variable, allowing you to identify whether it's an integer, float, string, list, dictionary, or another type of object.\n",
    "* Understanding the type of variables can be useful for debugging and ensuring that you're working with the correct data types in your program."
   ]
  },
  {
   "cell_type": "code",
   "execution_count": 11,
   "id": "507cae61-9fdf-4db8-9a81-dcfb6fb4d3a1",
   "metadata": {},
   "outputs": [
    {
     "name": "stdout",
     "output_type": "stream",
     "text": [
      "Type of integer_var: <class 'int'>\n",
      "Type of float_var: <class 'float'>\n",
      "Type of string_var: <class 'str'>\n",
      "Type of list_var: <class 'list'>\n",
      "Type of dict_var: <class 'dict'>\n"
     ]
    }
   ],
   "source": [
    "# Example variables\n",
    "integer_var = 42\n",
    "float_var = 3.14\n",
    "string_var = \"Hello, Python!\"\n",
    "list_var = [1, 2, 3]\n",
    "dict_var = {\"key\": \"value\"}\n",
    "\n",
    "# Using type() to identify the class/type\n",
    "print(\"Type of integer_var:\", type(integer_var))\n",
    "print(\"Type of float_var:\", type(float_var))\n",
    "print(\"Type of string_var:\", type(string_var))\n",
    "print(\"Type of list_var:\", type(list_var))\n",
    "print(\"Type of dict_var:\", type(dict_var))\n"
   ]
  },
  {
   "cell_type": "markdown",
   "id": "e6f52c1f-ba6c-443d-be73-2a3b779fcace",
   "metadata": {},
   "source": [
    "## String-float-integer"
   ]
  },
  {
   "cell_type": "markdown",
   "id": "d41921dd-3652-4b4a-9d04-c3d1bda57a61",
   "metadata": {},
   "source": [
    "1 : String\n",
    "* Defination: A string is a sequence of characters enclosed in single (' ') or double (\" \") quotes.\n",
    "* Example: \"Hello, World!\", 'Python is fun'\n",
    "* Usage: Strings are used to represent text and are versatile for storing and manipulating textual data.\n",
    "\n",
    "2 : Float\n",
    "* Definition: A float (floating-point number) is a numeric type with decimal points or exponential notation.\n",
    "* Example: '3.14', '2.0', '-0.005'\n",
    "* Usage: Floats are used to represent real numbers, especially when precision is required. They can handle both integer and fractional parts.\n",
    "\n",
    "3 : Integer\n",
    "* Definition: An integer is a whole number without any decimal points or fractional parts.\n",
    "* Example: '42','-17', '0'\n",
    "* Usage: Integers are used to represent whole numbers in arithmetic operations and situations where decimal precision is not needed."
   ]
  },
  {
   "cell_type": "code",
   "execution_count": 19,
   "id": "87e9a2e6-3b89-43ea-8f6f-24cb534ece09",
   "metadata": {},
   "outputs": [
    {
     "name": "stdout",
     "output_type": "stream",
     "text": [
      "String to Integer: 20\n",
      "Integer to Float: 20.0\n",
      "Result of Float + Float: 23.14\n"
     ]
    }
   ],
   "source": [
    "# Examples of operations and conversions\n",
    "string_example = \"20\"\n",
    "integer_example = int(string_example)  # Convert string to integer\n",
    "float_example = float(integer_example)  # Convert integer to float\n",
    "\n",
    "result = float_example + 3.14  # Perform arithmetic operation\n",
    "\n",
    "print(\"String to Integer:\", integer_example)\n",
    "print(\"Integer to Float:\", float_example)\n",
    "print(\"Result of Float + Float:\", result)\n"
   ]
  },
  {
   "cell_type": "markdown",
   "id": "3b803f9a-1a4f-4298-8bca-9120b9f7ab97",
   "metadata": {},
   "source": [
    "## String/integer to float conversion:"
   ]
  },
  {
   "cell_type": "markdown",
   "id": "7925ec79-03cb-40c9-8671-75dbee6e154c",
   "metadata": {},
   "source": [
    "* In Python, you can convert a string or an integer to a float using the float() function."
   ]
  },
  {
   "cell_type": "code",
   "execution_count": 13,
   "id": "e1750441-bd1d-42eb-a9db-e1170282b3ad",
   "metadata": {},
   "outputs": [
    {
     "name": "stdout",
     "output_type": "stream",
     "text": [
      "Original String: 3.14\n",
      "Converted Float: 3.14\n"
     ]
    }
   ],
   "source": [
    "# String to Float conversion\n",
    "string_number = \"3.14\"\n",
    "float_number = float(string_number)\n",
    "\n",
    "# Display the result\n",
    "print(\"Original String:\", string_number)\n",
    "print(\"Converted Float:\", float_number)\n"
   ]
  },
  {
   "cell_type": "code",
   "execution_count": 14,
   "id": "beb52b09-2292-4d69-9d89-6423294e8857",
   "metadata": {},
   "outputs": [
    {
     "name": "stdout",
     "output_type": "stream",
     "text": [
      "Original Integer: 42\n",
      "Converted Float: 42.0\n"
     ]
    }
   ],
   "source": [
    "# Integer to Float conversion\n",
    "integer_number = 42\n",
    "float_number = float(integer_number)\n",
    "\n",
    "# Display the result\n",
    "print(\"Original Integer:\", integer_number)\n",
    "print(\"Converted Float:\", float_number)\n"
   ]
  },
  {
   "cell_type": "markdown",
   "id": "4cc2e90e-806e-4d5b-abe3-f4aeb9aabfca",
   "metadata": {},
   "source": [
    "* In both cases, the float() function is used to convert the variable to a floating-point number. This is useful when you need to perform arithmetic operations that involve floating-point numbers."
   ]
  },
  {
   "cell_type": "markdown",
   "id": "7b5bf404-190b-42eb-9e67-e7bbbb770184",
   "metadata": {},
   "source": [
    "## Float/string to integer conversion"
   ]
  },
  {
   "cell_type": "markdown",
   "id": "e14676ab-58b6-4cbb-b2b7-0a594d8ff805",
   "metadata": {},
   "source": [
    "* In Python, you can convert a float or string to an integer using the int() function. "
   ]
  },
  {
   "cell_type": "code",
   "execution_count": 16,
   "id": "be9732be-6a94-4188-910b-a479911d517e",
   "metadata": {},
   "outputs": [
    {
     "name": "stdout",
     "output_type": "stream",
     "text": [
      "Float to Integer Conversion: 3\n"
     ]
    }
   ],
   "source": [
    "#Float to Integer Conversion:\n",
    "# Float variable\n",
    "float_number = 3.14\n",
    "\n",
    "# Convert float to integer\n",
    "integer_result = int(float_number)\n",
    "\n",
    "# Display the result\n",
    "print(\"Float to Integer Conversion:\", integer_result)\n"
   ]
  },
  {
   "cell_type": "code",
   "execution_count": 18,
   "id": "8b988576-0d5b-4f43-aae7-6fb61bedc336",
   "metadata": {},
   "outputs": [
    {
     "name": "stdout",
     "output_type": "stream",
     "text": [
      "String to Integer Conversion: 20\n"
     ]
    }
   ],
   "source": [
    "#String to Integer Conversion:\n",
    "# String variable\n",
    "string_number = \"20\"\n",
    "\n",
    "# Convert string to integer\n",
    "integer_result = int(string_number)\n",
    "\n",
    "# Display the result\n",
    "print(\"String to Integer Conversion:\", integer_result)\n"
   ]
  },
  {
   "cell_type": "markdown",
   "id": "f56e94f4-4c08-4420-b2c3-0526dd55e597",
   "metadata": {},
   "source": [
    "* It's important to note that when converting a string to an integer, the string should represent a valid integer. If the string contains non-numeric characters, attempting the conversion may result in a 'ValueError'."
   ]
  },
  {
   "cell_type": "markdown",
   "id": "74f2546d-715e-423f-8419-5836b194e812",
   "metadata": {},
   "source": [
    "## Complex function"
   ]
  },
  {
   "cell_type": "markdown",
   "id": "6e5d84df-8a81-42d1-85a9-1b895f43c74a",
   "metadata": {},
   "source": [
    "* A complex function is a function that takes a complex number as an input and produces a complex number as an output. These functions can be expressed in terms of variables like \"z = x + yi,\" where x and y are real numbers, and i is the imaginary unit (i.e., the square root of -1)."
   ]
  },
  {
   "cell_type": "code",
   "execution_count": 3,
   "id": "530bd350-23ed-472d-b389-66ccdb63c692",
   "metadata": {},
   "outputs": [
    {
     "name": "stdout",
     "output_type": "stream",
     "text": [
      "Addition: (8+2j)\n",
      "Subtraction: (-2+6j)\n",
      "Multiplication: (23+14j)\n",
      "Division: (0.24137931034482757+0.896551724137931j)\n",
      "Real part: 3.0\n",
      "Imaginary part: 4.0\n"
     ]
    }
   ],
   "source": [
    "# Creating complex numbers\n",
    "z1 = 3 + 4j\n",
    "z2 = complex(5, -2)\n",
    "\n",
    "# Addition\n",
    "result_addition = z1 + z2\n",
    "print(\"Addition:\", result_addition)\n",
    "\n",
    "# Subtraction\n",
    "result_subtraction = z1 - z2\n",
    "print(\"Subtraction:\", result_subtraction)\n",
    "\n",
    "# Multiplication\n",
    "result_multiplication = z1 * z2\n",
    "print(\"Multiplication:\", result_multiplication)\n",
    "\n",
    "# Division\n",
    "result_division = z1 / z2\n",
    "print(\"Division:\", result_division)\n",
    "\n",
    "# Real and imaginary parts\n",
    "real_part = z1.real\n",
    "imaginary_part = z1.imag\n",
    "print(\"Real part:\", real_part)\n",
    "print(\"Imaginary part:\", imaginary_part)\n"
   ]
  },
  {
   "cell_type": "markdown",
   "id": "ea1655e5-fa81-4475-a8d5-1c11cd0ca39c",
   "metadata": {},
   "source": [
    "## Bool function"
   ]
  },
  {
   "cell_type": "markdown",
   "id": "5c585d45-2492-4833-8724-5cc15b9816eb",
   "metadata": {},
   "source": [
    "* It seems like you might be referring to the bool() function in Python. The bool() function is used to convert a value to a Boolean (True or False) representation. It can take various types of input and returns True for truthy values and False for falsy values."
   ]
  },
  {
   "cell_type": "code",
   "execution_count": 5,
   "id": "425c2f64-b445-4d7d-9d68-740ec52a20fd",
   "metadata": {},
   "outputs": [
    {
     "name": "stdout",
     "output_type": "stream",
     "text": [
      "bool(12) = True\n",
      "bool(0) = False\n",
      "bool('Hello') = True\n"
     ]
    }
   ],
   "source": [
    "# Using bool() function\n",
    "value1 = 12\n",
    "bool_value1 = bool(value1)\n",
    "print(f\"bool({value1}) =\", bool_value1)\n",
    "\n",
    "value2 = 0\n",
    "bool_value2 = bool(value2)\n",
    "print(f\"bool({value2}) =\", bool_value2)\n",
    "\n",
    "value3 = \"Hello\"\n",
    "bool_value3 = bool(value3)\n",
    "print(f\"bool('{value3}') =\", bool_value3)\n"
   ]
  },
  {
   "cell_type": "markdown",
   "id": "7e079b8f-2504-4329-89ed-e6754104e338",
   "metadata": {},
   "source": [
    "_ In this example, 'bool_value1' will be 'True' because non-zero integers are truthy. 'bool_value2' will be 'False' as '0' is falsy, and ''bool_value3' will be 'True' because non-empty strings are truthy."
   ]
  },
  {
   "cell_type": "markdown",
   "id": "de704a9f-91f5-4174-b7ba-0442e8910019",
   "metadata": {},
   "source": [
    "## String slicing"
   ]
  },
  {
   "cell_type": "markdown",
   "id": "ce6db6e9-f335-4c88-8105-ba2fee758a19",
   "metadata": {},
   "source": [
    "* String slicing is a powerful feature in Python that allows you to extract a portion of a string. It's done using the square bracket notation '[start:stop]'.\n",
    "* Here are some key points:\n",
    "  1.Basic Syntax:'string[start:stop]': Extracts characters from index 'start' to 'stop-1'.\n",
    "\n",
    "  2.Indexing:\n",
    "  * Indexing starts at 0 for the first character.\n",
    "  * Negative indices can be used to count from the end, with -1 being the last character.\n",
    "\n",
    "  3.Omitted Indices:\n",
    "  * If 'start' is omitted, it defaults to the beginning of the string.\n",
    "  * If 'stop' is omitted, it defaults to the end of the string.\n",
    "  \n",
    "  4.Step/Stride:\n",
    "  * You can include a third parameter, the step/stride ('[start:stop:step]'), to skip characters.\n",
    "  * A negative step moves backward through the string.\n",
    "  "
   ]
  },
  {
   "cell_type": "code",
   "execution_count": 6,
   "id": "c60c239f-6b0b-4c36-882f-bf08e9367420",
   "metadata": {},
   "outputs": [
    {
     "name": "stdout",
     "output_type": "stream",
     "text": [
      "World\n",
      "Hello\n",
      "World!\n",
      "Hlo ol!\n",
      "!dlroW ,olleH\n"
     ]
    }
   ],
   "source": [
    "#Example\n",
    "my_string = \"Hello, World!\"\n",
    "\n",
    "# Basic slicing\n",
    "print(my_string[7:12])  # Outputs \"World\"\n",
    "\n",
    "# Omitted indices\n",
    "print(my_string[:5])    # Outputs \"Hello\"\n",
    "print(my_string[7:])    # Outputs \"World!\"\n",
    "\n",
    "# Step/Stride\n",
    "print(my_string[::2])   # Outputs \"Hlo ol!\"\n",
    "print(my_string[::-1])  # Outputs \"!dlroW ,olleH\"\n"
   ]
  },
  {
   "cell_type": "markdown",
   "id": "d45945b0-d308-4bd2-93b1-da5dcc26ba8a",
   "metadata": {},
   "source": [
    "* String slicing is versatile and handy for tasks like extracting substrings, reversing strings, or obtaining specific patterns from a larger text."
   ]
  },
  {
   "cell_type": "markdown",
   "id": "b2eacb40-cd2e-40a1-b0ba-6ad4f84e02ab",
   "metadata": {},
   "source": [
    "## Immutability"
   ]
  },
  {
   "cell_type": "markdown",
   "id": "06da6f3e-814c-45a0-ae25-6c0fd3c7e775",
   "metadata": {},
   "source": [
    "* immutability refers to the property of an object that cannot be modified once it is created. In other words, the state of an immutable object cannot be changed after its initialization.\n",
    "\n",
    "1. Immutable Objects:  Examples of immutable objects in Python include tuples, strings, and frozensets. Once these objects are created, you cannot modify their content.\n",
    "2. Advantages:\n",
    "* Simplifies Code: Immutable objects simplify the code because you don't have to worry about unintended changes to the data.\n",
    "* Thread Safety: Immutable objects are inherently thread-safe, as there is no risk of concurrent modification.\n",
    "3. Mutability vs. Immutability:\n",
    "* Mutable objects, like lists and dictionaries, allow changes to their content after creation.\n",
    "* Immutable objects, like tuples and strings, do not allow changes once created."
   ]
  },
  {
   "cell_type": "code",
   "execution_count": 7,
   "id": "054b8a0b-2d48-4647-ba74-88b6b211e3ad",
   "metadata": {},
   "outputs": [
    {
     "name": "stdout",
     "output_type": "stream",
     "text": [
      "Hello\n",
      "Hello, World!\n"
     ]
    }
   ],
   "source": [
    "# Immutable string\n",
    "my_string = \"Hello\"\n",
    "\n",
    "# Attempting to modify will create a new string\n",
    "new_string = my_string + \", World!\"\n",
    "\n",
    "print(my_string)  # Output: Hello\n",
    "print(new_string)  # Output: Hello, World!\n"
   ]
  },
  {
   "cell_type": "markdown",
   "id": "d6c207d8-a921-4d8c-b32d-2f7d0800b40d",
   "metadata": {},
   "source": [
    "## List\n",
    "There are 11 functions in list as follows:-\n",
    "1. append\n",
    "2. clear\n",
    "3. copy\n",
    "4. count\n",
    "5. extend\n",
    "6. index\n",
    "7. insert\n",
    "8. pop\n",
    "9. remove\n",
    "10. reverse\n",
    "11. sort\n",
    "\n",
    "* In Python, a list is a versatile and mutable data type used to store a collection of elements."
   ]
  },
  {
   "cell_type": "markdown",
   "id": "19ca3546-6e82-46ad-8018-2aa460f948e8",
   "metadata": {},
   "source": [
    "1. Definition: A list is defined by enclosing elements within square brackets []. Elements in a list can be of different data types, and a list can even contain other lists."
   ]
  },
  {
   "cell_type": "code",
   "execution_count": 15,
   "id": "6b4c6d6f-c372-4f68-8044-783a540d4984",
   "metadata": {},
   "outputs": [
    {
     "name": "stdout",
     "output_type": "stream",
     "text": [
      "[1, 2, 3, 4, 5, 6, 7, 8]\n",
      "<class 'list'> \n",
      "\n",
      "[1.2, 2.3, 3.4, 4.5, 5.6, 6.7, 7.8, 8.9]\n",
      "<class 'list'> \n",
      "\n",
      "['apple', 'mango', 'banana', 'orange']\n",
      "<class 'list'> \n",
      "\n",
      "[1, 2, 1.2, 2.3, 'apple', 'mango']\n",
      "<class 'list'>\n"
     ]
    }
   ],
   "source": [
    "a = [1,2,3,4,5,6,7,8]\n",
    "print(a)\n",
    "print(type(a),\"\\n\")\n",
    "\n",
    "b = [1.2,2.3,3.4,4.5,5.6,6.7,7.8,8.9]\n",
    "print(b)\n",
    "print(type(b),\"\\n\")\n",
    "\n",
    "c = [\"apple\",\"mango\",\"banana\",\"orange\"]\n",
    "print(c)\n",
    "print(type(c),\"\\n\")\n",
    "\n",
    "d = [1,2,1.2,2.3,\"apple\",\"mango\"]\n",
    "print(d)\n",
    "print(type(d))"
   ]
  },
  {
   "cell_type": "code",
   "execution_count": 16,
   "id": "4ee2fe56-c660-4416-941a-b2c1df221d17",
   "metadata": {},
   "outputs": [
    {
     "name": "stdout",
     "output_type": "stream",
     "text": [
      "[1, 2, 3, 4, 5, 6, 7, 8, 9, 10] \n",
      "\n",
      "2\n"
     ]
    },
    {
     "data": {
      "text/plain": [
       "[1, 2, 3, 4, 5, 6, 7, 8, 9, 10]"
      ]
     },
     "execution_count": 16,
     "metadata": {},
     "output_type": "execute_result"
    }
   ],
   "source": [
    "a = [1,2,3,4,5,6,7,8,9,10]\n",
    "\n",
    "print(a,'\\n')\n",
    "\n",
    "print(a[1])\n",
    "\n",
    "a[-10:]"
   ]
  },
  {
   "cell_type": "code",
   "execution_count": 17,
   "id": "730304a9-f1f7-4660-878c-bf6fe56859ee",
   "metadata": {},
   "outputs": [
    {
     "name": "stdout",
     "output_type": "stream",
     "text": [
      "<class 'list'>\n",
      "5\n"
     ]
    }
   ],
   "source": [
    "a = [1,2,3,4,5,6,7,8,9,10]\n",
    "print(type(a))\n",
    "\n",
    "print(a[4])"
   ]
  },
  {
   "cell_type": "code",
   "execution_count": 18,
   "id": "4f00a35d-7f8f-4f39-80d3-c4b4dca76490",
   "metadata": {},
   "outputs": [
    {
     "name": "stdout",
     "output_type": "stream",
     "text": [
      "[1, 2, 3, 4, 5, 6, 7, 8, 9, 10, 11]\n"
     ]
    }
   ],
   "source": [
    "#Append function\n",
    "a = [1,2,3,4,5,6,7,8,9,10]\n",
    "\n",
    "a.append(11)\n",
    "print(a)"
   ]
  },
  {
   "cell_type": "code",
   "execution_count": 19,
   "id": "a33cc856-151b-4562-bffe-40d784960851",
   "metadata": {},
   "outputs": [
    {
     "name": "stdout",
     "output_type": "stream",
     "text": [
      "[1, 2, 3, 4, 5, 6, 7, 8, 9, 10, 11]\n",
      "[1, 2, 3, 4, 5, 6, 7, 8, 9, 10]\n"
     ]
    }
   ],
   "source": [
    "#Remove function\n",
    "a = [1,2,3,4,5,6,7,8,9,10,11]\n",
    "print(a)\n",
    "a.remove(11)\n",
    "print(a)"
   ]
  },
  {
   "cell_type": "code",
   "execution_count": 20,
   "id": "4f396b55-a9fa-4e0a-9b33-1e435d90c765",
   "metadata": {},
   "outputs": [
    {
     "data": {
      "text/plain": [
       "[1, 2, 3, 4, 5, 6, 7, 8, 9, 10, 11]"
      ]
     },
     "execution_count": 20,
     "metadata": {},
     "output_type": "execute_result"
    }
   ],
   "source": [
    "#Copy function\n",
    "a = [1,2,3,4,5,6,7,8,9,10,11]\n",
    "a.copy()"
   ]
  },
  {
   "cell_type": "code",
   "execution_count": 21,
   "id": "a115be41-2d31-46c0-979e-95432d193f7a",
   "metadata": {},
   "outputs": [
    {
     "name": "stdout",
     "output_type": "stream",
     "text": [
      "[1, 2, 3, 4, 5, 6, 7, 8, 9, 10, 11]\n",
      "[1, 2, 3, 4, 5, 6, 7, 8, 9, 10, 11, 1, 2, 3, 4, 5, 6, 7, 8, 9, 10, 11]\n"
     ]
    }
   ],
   "source": [
    "#Extend function\n",
    "print(a)\n",
    "a.extend(a)\n",
    "print(a)"
   ]
  },
  {
   "cell_type": "code",
   "execution_count": 22,
   "id": "a6ab51ba-dcca-4f5b-879e-ddb4fd1d10c5",
   "metadata": {},
   "outputs": [
    {
     "name": "stdout",
     "output_type": "stream",
     "text": [
      "[1, 2, 3, 4, 5, 6, 7, 8, 9, 10]\n",
      "8\n",
      "10\n"
     ]
    }
   ],
   "source": [
    "#Index function\n",
    "a = [1,2,3,4,5,6,7,8,9,10]\n",
    "print(a)\n",
    "print(a.index(9))\n",
    "print(a[9])"
   ]
  },
  {
   "cell_type": "code",
   "execution_count": 23,
   "id": "8cf77edd-4a2f-4e9f-9e1b-77fea5d007ee",
   "metadata": {},
   "outputs": [
    {
     "name": "stdout",
     "output_type": "stream",
     "text": [
      "[1, 2, 3, 4, 5, 6, 7, 8, 9, 10]\n",
      "[1, 2, 3, 4, 5, 6, 7, 8, 9, 123, 10]\n"
     ]
    }
   ],
   "source": [
    "#Insert function\n",
    "a = [1,2,3,4,5,6,7,8,9,10]\n",
    "print(a)\n",
    "a.insert(9,123)\n",
    "print(a)"
   ]
  },
  {
   "cell_type": "code",
   "execution_count": 24,
   "id": "8b5edab1-1f1c-4f5d-ac26-2ae323269203",
   "metadata": {},
   "outputs": [
    {
     "name": "stdout",
     "output_type": "stream",
     "text": [
      "[1, 2, 3, 4, 5, 6, 7, 8, 9, 10]\n",
      "[2, 3, 4, 5, 6, 7, 8, 9, 10]\n"
     ]
    }
   ],
   "source": [
    "#Pop function\n",
    "# it removes the given position element in your list & if not given it removes the last element\n",
    "a = [1,2,3,4,5,6,7,8,9,10]\n",
    "\n",
    "print(a)\n",
    "a.pop(0)\n",
    "print(a)"
   ]
  },
  {
   "cell_type": "code",
   "execution_count": 25,
   "id": "15884de3-9350-4ff2-bf5b-eb78ff0e172e",
   "metadata": {},
   "outputs": [
    {
     "name": "stdout",
     "output_type": "stream",
     "text": [
      "[1, 2, 3, 4, 5, 6, 7, 8, 9, 10]\n",
      "[10, 9, 8, 7, 6, 5, 4, 3, 2, 1]\n"
     ]
    }
   ],
   "source": [
    "#Reverse function\n",
    "a = [1,2,3,4,5,6,7,8,9,10]\n",
    "print(a)\n",
    "a.reverse()\n",
    "print(a)"
   ]
  },
  {
   "cell_type": "code",
   "execution_count": 26,
   "id": "ca3cdc0e-e4ef-41b2-af8b-80455faa9b1d",
   "metadata": {},
   "outputs": [
    {
     "name": "stdout",
     "output_type": "stream",
     "text": [
      "[9, 5, 4, 3, 2, 6, 7, 8, 1]\n",
      "[1, 2, 3, 4, 5, 6, 7, 8, 9]\n"
     ]
    }
   ],
   "source": [
    "#Sort function\n",
    "a = [9,5,4,3,2,6,7,8,1]\n",
    "print(a)\n",
    "#a.sort(reverse=True)\n",
    "a.sort(reverse = False)\n",
    "print(a)"
   ]
  },
  {
   "cell_type": "code",
   "execution_count": 27,
   "id": "0b334d33-e00e-40e8-894a-a6234ca86e34",
   "metadata": {},
   "outputs": [
    {
     "data": {
      "text/plain": [
       "4"
      ]
     },
     "execution_count": 27,
     "metadata": {},
     "output_type": "execute_result"
    }
   ],
   "source": [
    "#count function\n",
    "a = [1,2,3,4,5,6,7,8,8,8,8,9]\n",
    "a.count(8)"
   ]
  },
  {
   "cell_type": "markdown",
   "id": "c5242012-c303-4ef8-961f-b9ccd0da4723",
   "metadata": {},
   "source": [
    "## Tuple\n",
    "\n",
    "1. Tuple is immutable\n",
    "2. To operate on tuple firstly you have to convert it into list"
   ]
  },
  {
   "cell_type": "markdown",
   "id": "86ed0f52-c9fd-480a-bc2d-892014ec2333",
   "metadata": {},
   "source": [
    "* A tuple in Python is an ordered, immutable collection of elements. This means that once you create a tuple, you cannot modify its elements - you can't add, remove, or change them. Tuples are defined using parentheses '()' and can contain elements of different data types."
   ]
  },
  {
   "cell_type": "code",
   "execution_count": 28,
   "id": "5e7241ca-6f0c-4995-8802-0805f7a4c79f",
   "metadata": {},
   "outputs": [
    {
     "name": "stdout",
     "output_type": "stream",
     "text": [
      "[1, 2, 3, 4, 5, 6, 7, 8, 9]\n",
      "<class 'list'>\n",
      "(1, 2, 3, 4, 5, 6, 7, 8, 9)\n",
      "<class 'tuple'>\n"
     ]
    }
   ],
   "source": [
    "#List to tuple\n",
    "a = [1,2,3,4,5,6,7,8,9]\n",
    "print(a)\n",
    "print(type(a))\n",
    "\n",
    "b = tuple(a)\n",
    "print(b)\n",
    "print(type(b))"
   ]
  },
  {
   "cell_type": "code",
   "execution_count": 29,
   "id": "ca004023-0911-4211-a158-88a02e190abe",
   "metadata": {},
   "outputs": [
    {
     "name": "stdout",
     "output_type": "stream",
     "text": [
      "(1, 2, 3, 4, 5, 6, 7, 8, 9)\n",
      "<class 'tuple'>\n",
      "[1, 2, 3, 4, 5, 6, 7, 8, 9]\n",
      "<class 'list'>\n"
     ]
    }
   ],
   "source": [
    "#Tuple to list\n",
    "a = (1,2,3,4,5,6,7,8,9)\n",
    "print(a)\n",
    "print(type(a))\n",
    "\n",
    "b = list(a)\n",
    "print(b)\n",
    "print(type(b))"
   ]
  },
  {
   "cell_type": "code",
   "execution_count": 30,
   "id": "b3392f09-75e6-4644-97ef-3a4661b05b99",
   "metadata": {},
   "outputs": [
    {
     "name": "stdout",
     "output_type": "stream",
     "text": [
      "('apple', 'banana', 'mango', 'orange')\n",
      "<class 'tuple'> \n",
      "\n",
      "['apple', 'banana', 'mango', 'orange']\n",
      "<class 'list'> \n",
      "\n",
      "['apple', 'banana', 'mango', 'orange', 'grapes'] \n",
      "\n",
      "('apple', 'banana', 'mango', 'orange', 'grapes')\n",
      "<class 'tuple'>\n"
     ]
    }
   ],
   "source": [
    "# .append in tuple\n",
    "# since tuple is immutable you can't change the value inside \n",
    "# to change the value you have to convert tuple into list and then make changes in it according to you \n",
    "\n",
    "a = (\"apple\",\"banana\",\"mango\",\"orange\")\n",
    "print(a)\n",
    "print(type(a),\"\\n\")\n",
    "\n",
    "b = list(a)\n",
    "print(b)\n",
    "print(type(b),\"\\n\")\n",
    "\n",
    "b.append(\"grapes\")\n",
    "print(b,\"\\n\")\n",
    "\n",
    "c = tuple(b)\n",
    "print(c)\n",
    "print(type(c))"
   ]
  },
  {
   "cell_type": "code",
   "execution_count": 31,
   "id": "22c82b77-b3f0-4b58-a1f7-0c298a377398",
   "metadata": {},
   "outputs": [
    {
     "name": "stdout",
     "output_type": "stream",
     "text": [
      "(10, 20, 30, 40, 50, 60, 70, 80, 90)\n",
      "<class 'tuple'> \n",
      "\n",
      "[10, 20, 30, 40, 50, 60, 70, 80, 90]\n",
      "<class 'list'> \n",
      "\n",
      "[]\n"
     ]
    }
   ],
   "source": [
    "# .clear in tuple\n",
    "# it clears all the elements in list\n",
    "a = (10,20,30,40,50,60,70,80,90)\n",
    "print(a)\n",
    "print(type(a),\"\\n\")\n",
    "\n",
    "b = list(a)\n",
    "print(b)\n",
    "print(type(b),\"\\n\")\n",
    "\n",
    "b.clear()\n",
    "print(b)"
   ]
  },
  {
   "cell_type": "code",
   "execution_count": 32,
   "id": "ebda6c3e-64d6-4f2f-9dd9-fc8f69e51fc9",
   "metadata": {},
   "outputs": [
    {
     "name": "stdout",
     "output_type": "stream",
     "text": [
      "(10, 20, 30, 40, 50, 60, 70, 80, 90)\n",
      "<class 'tuple'> \n",
      "\n",
      "[10, 20, 30, 40, 50, 60, 70, 80, 90]\n",
      "<class 'list'> \n",
      "\n",
      "[10, 20, 30, 40, 50, 60, 70, 80, 90]\n"
     ]
    }
   ],
   "source": [
    "# .copy in tuple\n",
    "# it creates a copy of your elements\n",
    "a = (10,20,30,40,50,60,70,80,90)\n",
    "print(a)\n",
    "print(type(a),\"\\n\")\n",
    "\n",
    "b = list(a)\n",
    "print(b)\n",
    "print(type(b),\"\\n\")\n",
    "\n",
    "b.copy()\n",
    "print(b)"
   ]
  },
  {
   "cell_type": "code",
   "execution_count": 33,
   "id": "71f3478f-943b-4547-bc49-8b30239c7bf1",
   "metadata": {},
   "outputs": [
    {
     "name": "stdout",
     "output_type": "stream",
     "text": [
      "(10, 20, 30, 40, 50, 60, 70, 80, 80, 80, 80, 90)\n",
      "<class 'tuple'> \n",
      "\n",
      "[10, 20, 30, 40, 50, 60, 70, 80, 80, 80, 80, 90]\n",
      "<class 'list'> \n",
      "\n"
     ]
    },
    {
     "data": {
      "text/plain": [
       "4"
      ]
     },
     "execution_count": 33,
     "metadata": {},
     "output_type": "execute_result"
    }
   ],
   "source": [
    "# .count in tuple\n",
    "# it counts the one or duplicate elements in your list\n",
    "a = (10,20,30,40,50,60,70,80,80,80,80,90)\n",
    "print(a)\n",
    "print(type(a),\"\\n\")\n",
    "\n",
    "b = list(a)\n",
    "print(b)\n",
    "print(type(b),\"\\n\")\n",
    "\n",
    "b.count(80)"
   ]
  },
  {
   "cell_type": "code",
   "execution_count": 34,
   "id": "bcd417f5-750e-4b1d-9cb9-f446903b3bf9",
   "metadata": {},
   "outputs": [
    {
     "name": "stdout",
     "output_type": "stream",
     "text": [
      "(10, 20, 30, 40, 50, 60, 70, 80, 90)\n",
      "<class 'tuple'> \n",
      "\n",
      "[10, 20, 30, 40, 50, 60, 70, 80, 90]\n",
      "<class 'list'> \n",
      "\n",
      "[10, 20, 30, 40, 50, 60, 70, 80, 90, 100, 110, 120, 130, 140, 150]\n"
     ]
    }
   ],
   "source": [
    "# .extend in tuple\n",
    "# you can combine your two lists using .extend\n",
    "a = (10,20,30,40,50,60,70,80,90)\n",
    "print(a)\n",
    "print(type(a),\"\\n\")\n",
    "\n",
    "c = [100,110,120,130,140,150]\n",
    "\n",
    "b = list(a)\n",
    "print(b)\n",
    "print(type(b),\"\\n\")\n",
    "\n",
    "b.extend(c)\n",
    "print(b)"
   ]
  },
  {
   "cell_type": "code",
   "execution_count": 35,
   "id": "7c4eecd4-5311-4961-abc1-d299466bf3b1",
   "metadata": {},
   "outputs": [
    {
     "name": "stdout",
     "output_type": "stream",
     "text": [
      "(10, 20, 30, 40, 50, 60, 70, 80, 90)\n",
      "<class 'tuple'> \n",
      "\n",
      "[10, 20, 30, 40, 50, 60, 70, 80, 90]\n",
      "<class 'list'> \n",
      "\n"
     ]
    },
    {
     "data": {
      "text/plain": [
       "4"
      ]
     },
     "execution_count": 35,
     "metadata": {},
     "output_type": "execute_result"
    }
   ],
   "source": [
    "# .index in tuple\n",
    "# it gives the index of given value\n",
    "a = (10,20,30,40,50,60,70,80,90)\n",
    "print(a)\n",
    "print(type(a),\"\\n\")\n",
    "\n",
    "b = list(a)\n",
    "print(b)\n",
    "print(type(b),\"\\n\") \n",
    "\n",
    "b.index(50)"
   ]
  },
  {
   "cell_type": "code",
   "execution_count": 36,
   "id": "3f4a67d3-aa4f-4ed5-abc9-a2e5b96cfa27",
   "metadata": {},
   "outputs": [
    {
     "name": "stdout",
     "output_type": "stream",
     "text": [
      "(10, 20, 30, 40, 50, 60, 70, 80, 90)\n",
      "<class 'tuple'> \n",
      "\n",
      "[10, 20, 30, 40, 50, 60, 70, 80, 90]\n",
      "<class 'list'> \n",
      "\n",
      "[10, 20, 30, 40, 50, 60, 70, 80, 90, 'hi']\n",
      "[10, 20, 30, 40, 50, 60, 70, 80, 90, 'hi', 100]\n"
     ]
    }
   ],
   "source": [
    "# .insert in tuple\n",
    "# with this you can insert any value or element at any specified loction in list\n",
    "a = (10,20,30,40,50,60,70,80,90)\n",
    "print(a)\n",
    "print(type(a),\"\\n\")\n",
    "\n",
    "b = list(a)\n",
    "print(b)\n",
    "print(type(b),\"\\n\")\n",
    "\n",
    "b.insert(9,\"hi\")\n",
    "print(b)\n",
    "\n",
    "b.insert(10,100)\n",
    "print(b)"
   ]
  },
  {
   "cell_type": "code",
   "execution_count": 37,
   "id": "6382f621-5e84-4dff-90d1-a157bb8fa32d",
   "metadata": {},
   "outputs": [
    {
     "name": "stdout",
     "output_type": "stream",
     "text": [
      "(10, 20, 30, 40, 50, 60, 70, 80, 90)\n",
      "<class 'tuple'> \n",
      "\n",
      "[10, 20, 30, 40, 50, 60, 70, 80, 90]\n",
      "<class 'list'> \n",
      "\n",
      "[10, 20, 30, 40, 50, 60, 70, 80]\n"
     ]
    }
   ],
   "source": [
    "# .pop in tuple\n",
    "# it removes the given position element in your list & if not given it removes the last element\n",
    "a = (10,20,30,40,50,60,70,80,90)\n",
    "print(a)\n",
    "print(type(a),\"\\n\")\n",
    "\n",
    "b = list(a)\n",
    "print(b)\n",
    "print(type(b),\"\\n\")\n",
    "\n",
    "b.pop()\n",
    "print(b)"
   ]
  },
  {
   "cell_type": "code",
   "execution_count": 40,
   "id": "f0ed33f2-463f-43bd-8283-a21aabc072ea",
   "metadata": {},
   "outputs": [
    {
     "name": "stdout",
     "output_type": "stream",
     "text": [
      "(10, 20, 30, 40, 50, 60, 70, 80, 90)\n",
      "<class 'tuple'> \n",
      "\n",
      "[10, 20, 30, 40, 50, 60, 70, 80, 90]\n",
      "<class 'list'> \n",
      "\n",
      "[10, 20, 30, 40, 50, 60, 70, 90]\n"
     ]
    }
   ],
   "source": [
    "# .remove in tuple\n",
    "# with this you can remove any element in your list\n",
    "a = (10,20,30,40,50,60,70,80,90)\n",
    "print(a)\n",
    "print(type(a),\"\\n\")\n",
    "\n",
    "b = list(a)\n",
    "print(b)\n",
    "print(type(b),\"\\n\")\n",
    "\n",
    "b.remove(80)\n",
    "print(b)"
   ]
  },
  {
   "cell_type": "code",
   "execution_count": 39,
   "id": "ea79d2b7-af00-4cb5-9b65-c699f19b74c4",
   "metadata": {},
   "outputs": [
    {
     "name": "stdout",
     "output_type": "stream",
     "text": [
      "(10, 20, 30, 40, 50, 60, 70, 80, 90)\n",
      "<class 'tuple'> \n",
      "\n",
      "[10, 20, 30, 40, 50, 60, 70, 80, 90]\n",
      "<class 'list'> \n",
      "\n",
      "[90, 80, 70, 60, 50, 40, 30, 20, 10]\n"
     ]
    }
   ],
   "source": [
    "# .reverse in tuple\n",
    "# it reverse your list\n",
    "a = (10,20,30,40,50,60,70,80,90)\n",
    "print(a)\n",
    "print(type(a),\"\\n\")\n",
    "\n",
    "b = list(a)\n",
    "print(b)\n",
    "print(type(b),\"\\n\")\n",
    "\n",
    "b.reverse()\n",
    "print(b)"
   ]
  },
  {
   "cell_type": "code",
   "execution_count": 41,
   "id": "5d78fca5-e351-4a06-90dc-72421a229303",
   "metadata": {},
   "outputs": [
    {
     "name": "stdout",
     "output_type": "stream",
     "text": [
      "(20, 40, 60, 80, 10, 30, 50, 70, 90)\n",
      "<class 'tuple'> \n",
      "\n",
      "[20, 40, 60, 80, 10, 30, 50, 70, 90]\n",
      "<class 'list'> \n",
      "\n",
      "[10, 20, 30, 40, 50, 60, 70, 80, 90] \n",
      "\n",
      "(20, 40, 60, 80, 10, 30, 50, 70, 90)\n",
      "<class 'tuple'> \n",
      "\n",
      "[20, 40, 60, 80, 10, 30, 50, 70, 90]\n",
      "<class 'list'> \n",
      "\n",
      "[90, 80, 70, 60, 50, 40, 30, 20, 10] \n",
      "\n",
      "[10, 20, 30, 40, 50, 60, 70, 80, 90] \n",
      "\n"
     ]
    }
   ],
   "source": [
    "# .sort in tuple\n",
    "# it sorts your list in asscending order\n",
    "a = (20,40,60,80,10,30,50,70,90)\n",
    "print(a)\n",
    "print(type(a),\"\\n\")\n",
    "\n",
    "b = list(a)\n",
    "print(b)\n",
    "print(type(b),\"\\n\")\n",
    "\n",
    "b.sort()\n",
    "print(b,\"\\n\")\n",
    "\n",
    "# optional\n",
    "# .reverse=True will sort the list descending\n",
    "# .reverse=False will sort the list asscending\n",
    "a = (20,40,60,80,10,30,50,70,90)\n",
    "print(a)\n",
    "print(type(a),\"\\n\")\n",
    "\n",
    "b = list(a)\n",
    "print(b)\n",
    "print(type(b),\"\\n\")\n",
    "\n",
    "b.sort(reverse=True)\n",
    "print(b,\"\\n\")\n",
    "\n",
    "\n",
    "b.sort(reverse=False)\n",
    "print(b,\"\\n\")"
   ]
  },
  {
   "cell_type": "markdown",
   "id": "85ed1b96-f7fe-4499-a5e1-b5b853cb550e",
   "metadata": {},
   "source": [
    "## Set\n",
    "* Set is un-ordered collection of elements\n",
    "* It is mutale and growable\n",
    "* it is unchangable\n",
    "* { } represents a set\n",
    "* Since it is un-ordered, index application is not applicable\n",
    "* Duplicates are not allowed\n",
    " \n",
    " There are 18 methods in set function as follow:-\n",
    "1.  add  \n",
    "2.  clear\n",
    "3.  copy\n",
    "4.  difference\n",
    "5.  difference_update\n",
    "6.  discard\n",
    "7.  intersection\n",
    "8.  intersection_update\n",
    "9.  isdisjoint\n",
    "10. issubset\n",
    "11. issuperset\n",
    "12. mro\n",
    "13. pop\n",
    "14. remove\n",
    "15. symmetric_difference\n",
    "16. symmetric_difference_update\n",
    "17. union\n",
    "18. update"
   ]
  },
  {
   "cell_type": "code",
   "execution_count": 1,
   "id": "51c9fd9d-1bf4-4da5-b39d-677508e2225e",
   "metadata": {},
   "outputs": [
    {
     "name": "stdout",
     "output_type": "stream",
     "text": [
      "{1, 2, 3, 4, 5, 6, 'apple', 1.2, 'banana', 2.3, 3.4, 'mango', 'orange'} \n",
      "\n",
      "{1, 2, 3, 4, 5, 6, 'apple', 1.2, 'banana', 2.3, 3.4, 'root', 'mango', 'orange'}\n"
     ]
    }
   ],
   "source": [
    "# .add in set\n",
    "# with this we can add any element at any random position in set\n",
    "a = {1,2,3,4,5,6,\"apple\",'banana','mango','orange',1.2,2.3,3.4}\n",
    "print(a,\"\\n\")\n",
    "\n",
    "a.add(\"root\")\n",
    "print(a)"
   ]
  },
  {
   "cell_type": "code",
   "execution_count": 2,
   "id": "fadbbf14-a7e3-48c8-a522-f6bcf93d6bca",
   "metadata": {},
   "outputs": [
    {
     "name": "stdout",
     "output_type": "stream",
     "text": [
      "{1, 2, 3, 4, 5, 6, 'apple', 1.2, 'banana', 2.3, 3.4, 'mango', 'orange'} \n",
      "\n",
      "set()\n"
     ]
    }
   ],
   "source": [
    "# .clear in set\n",
    "# it clears your entire set \n",
    "a = {1,2,3,4,5,6,\"apple\",'banana','mango','orange',1.2,2.3,3.4}\n",
    "print(a,\"\\n\")\n",
    "\n",
    "a.clear()\n",
    "print(a)"
   ]
  },
  {
   "cell_type": "code",
   "execution_count": 3,
   "id": "2a0b4420-f3ab-4d48-9be8-e6e3b33809bc",
   "metadata": {},
   "outputs": [
    {
     "name": "stdout",
     "output_type": "stream",
     "text": [
      "{1, 2, 3, 4, 5, 6, 'apple', 1.2, 'banana', 2.3, 3.4, 'mango', 'orange'} \n",
      "\n"
     ]
    },
    {
     "data": {
      "text/plain": [
       "{1, 1.2, 2, 2.3, 3, 3.4, 4, 5, 6, 'apple', 'banana', 'mango', 'orange'}"
      ]
     },
     "execution_count": 3,
     "metadata": {},
     "output_type": "execute_result"
    }
   ],
   "source": [
    "# .copy in set\n",
    "# it copies your entire set\n",
    "a = {1,2,3,4,5,6,\"apple\",'banana','mango','orange',1.2,2.3,3.4}\n",
    "print(a,\"\\n\")\n",
    "\n",
    "a.copy()"
   ]
  },
  {
   "cell_type": "code",
   "execution_count": 4,
   "id": "7ca2fe3b-8eb9-439d-b33a-d2167f4d74ae",
   "metadata": {},
   "outputs": [
    {
     "name": "stdout",
     "output_type": "stream",
     "text": [
      "{1, 2, 3, 4, 5, 6, 'apple', 1.2, 2.3, 3.4, 'mango', 'orange'}\n"
     ]
    }
   ],
   "source": [
    "# .remove in set\n",
    "# it removes a given element in set\n",
    "# if given element is not there it will raise an error\n",
    "a = {1,2,3,4,5,6,\"apple\",'banana','mango','orange',1.2,2.3,3.4}\n",
    "\n",
    "a.remove('banana')\n",
    "print(a)"
   ]
  },
  {
   "cell_type": "code",
   "execution_count": 5,
   "id": "37e91607-c895-40a6-9b82-897b8c8680c2",
   "metadata": {},
   "outputs": [
    {
     "name": "stdout",
     "output_type": "stream",
     "text": [
      "{1, 2, 3, 4, 5, 6, 'apple', 1.2, 'banana', 2.3, 3.4, 'mango'}\n"
     ]
    }
   ],
   "source": [
    "# .discard in set\n",
    "# it too removes the given element in set\n",
    "# but it will not raise an error if given element is not there in set\n",
    "a = {1,2,3,4,5,6,\"apple\",'banana','mango','orange',1.2,2.3,3.4}\n",
    "\n",
    "a.discard(\"orange\")\n",
    "print(a)"
   ]
  },
  {
   "cell_type": "code",
   "execution_count": 6,
   "id": "0b794f57-5dd0-4975-9b4a-7fcca4a0ecba",
   "metadata": {},
   "outputs": [
    {
     "name": "stdout",
     "output_type": "stream",
     "text": [
      "{3.4, 4, 5, 6, 199, 'apple', 'banana', 12, 87, 'mango', 762, 'orange'}\n",
      "2.3\n"
     ]
    }
   ],
   "source": [
    "# .pop in set\n",
    "# it will remove any random element in set\n",
    "a = {199,762,87,4,5,6,\"apple\",'banana','mango','orange',12,2.3,3.4}\n",
    "\n",
    "b = a.pop()\n",
    "print(a)\n",
    "print(b)"
   ]
  },
  {
   "cell_type": "code",
   "execution_count": 7,
   "id": "4a0227b5-e48a-45de-9d36-48dab44c7c60",
   "metadata": {},
   "outputs": [
    {
     "name": "stdout",
     "output_type": "stream",
     "text": [
      "{1, 2, 3, 4, 5, 6}\n",
      "{5, 6, 7, 8, 9, 10}\n",
      "{1, 2, 3, 4, 5, 6, 7, 8, 9, 10}\n"
     ]
    }
   ],
   "source": [
    "# .union in set\n",
    "# return a set containing the union of sets\n",
    "a = {1,2,3,4,5,6}\n",
    "b = {5,6,7,8,9,10}\n",
    "print(a)\n",
    "print(b)\n",
    "\n",
    "x = a.union(b)\n",
    "print(x)"
   ]
  },
  {
   "cell_type": "code",
   "execution_count": 8,
   "id": "f3d8cc26-652f-4afe-b455-b6a21df31f8f",
   "metadata": {},
   "outputs": [
    {
     "name": "stdout",
     "output_type": "stream",
     "text": [
      "{100, 40, 200, 10, 300, 400, 50, 20, 500, 30} \n",
      "\n",
      "{100, 'apple', 40, 200, 10, 'banana', 300, 'papaya', 400, 50, 20, 500, 'mango', 'orange', 30}\n"
     ]
    }
   ],
   "source": [
    "# .update in set\n",
    "a = {10,20,30,40,50}\n",
    "b = {100,200,300,400,500}\n",
    "c = {'apple','banana','mango','orange','papaya'}\n",
    "a.update(b)\n",
    "print(a,\"\\n\")\n",
    "\n",
    "a.update(c)\n",
    "print(a)"
   ]
  },
  {
   "cell_type": "code",
   "execution_count": 9,
   "id": "cc2dd889-e504-4b67-82a8-6aaa49c13cbf",
   "metadata": {},
   "outputs": [
    {
     "data": {
      "text/plain": [
       "{100, 200}"
      ]
     },
     "execution_count": 9,
     "metadata": {},
     "output_type": "execute_result"
    }
   ],
   "source": [
    "# .intersection\n",
    "# it returns a set of common elements in all the sets given\n",
    "a = {100,200,515,645}\n",
    "b = {234,100,234,454,200}\n",
    "c = {100,2,3,4,5,200,345,5,654,456}\n",
    "\n",
    "a.intersection(b,c)"
   ]
  },
  {
   "cell_type": "code",
   "execution_count": 10,
   "id": "b5f5b234-399b-46fd-926d-4110a71f76ec",
   "metadata": {},
   "outputs": [
    {
     "name": "stdout",
     "output_type": "stream",
     "text": [
      "{'apple'}\n"
     ]
    }
   ],
   "source": [
    "# .intersection_update\n",
    "# it removes the elements that are not present in other sets\n",
    "a = {'apple','banana','mango'}\n",
    "b = {'cherry','orange','apple'}\n",
    "c = {'papaya','apple','grapes'}\n",
    "\n",
    "a.intersection_update(b,c)\n",
    "print(a)"
   ]
  },
  {
   "cell_type": "code",
   "execution_count": 11,
   "id": "eaeaea7e-2448-4f1d-b59b-a4c632ad0727",
   "metadata": {},
   "outputs": [
    {
     "name": "stdout",
     "output_type": "stream",
     "text": [
      "True\n",
      "False\n"
     ]
    }
   ],
   "source": [
    "# .isdisjoint\n",
    "# it checks if two sets have any elements in common\n",
    "set1 = {1, 2, 3}\n",
    "set2 = {4, 5, 6}\n",
    "set3 = {3, 4, 5}\n",
    "\n",
    "print(set1.isdisjoint(set2))\n",
    "print(set1.isdisjoint(set3)) "
   ]
  },
  {
   "cell_type": "code",
   "execution_count": 12,
   "id": "edb5e85f-42b5-46c2-9d91-f408050bdbea",
   "metadata": {},
   "outputs": [
    {
     "name": "stdout",
     "output_type": "stream",
     "text": [
      "True\n",
      "False\n"
     ]
    }
   ],
   "source": [
    "# .issubset\n",
    "# it checks if one set is a subset of another set\n",
    "set1 = {1, 2, 3}\n",
    "set2 = {1, 2}\n",
    "set3 = {4, 5}\n",
    "\n",
    "print(set2.issubset(set1))\n",
    "print(set3.issubset(set1))"
   ]
  },
  {
   "cell_type": "code",
   "execution_count": 13,
   "id": "39758cbf-d07d-4c16-bf2a-61258130daad",
   "metadata": {},
   "outputs": [
    {
     "name": "stdout",
     "output_type": "stream",
     "text": [
      "True\n",
      "False\n"
     ]
    }
   ],
   "source": [
    "# .issuperset\n",
    "# it checks if one set is a superset of another set\n",
    "set1 = {1, 2, 3}\n",
    "set2 = {1, 2}\n",
    "set3 = {4, 5}\n",
    "\n",
    "print(set1.issuperset(set2))\n",
    "print(set1.issuperset(set3))"
   ]
  },
  {
   "cell_type": "code",
   "execution_count": 14,
   "id": "105f3be0-2316-4eb9-9e82-733a31776c5f",
   "metadata": {},
   "outputs": [
    {
     "name": "stdout",
     "output_type": "stream",
     "text": [
      "{1, 2, 5, 6}\n"
     ]
    }
   ],
   "source": [
    "# .symmetric_difference\n",
    "# it checks if elements that are unique to each of two sets\n",
    "set1 = {1, 2, 3, 4}\n",
    "set2 = {3, 4, 5, 6}\n",
    "\n",
    "result_set = set1.symmetric_difference(set2)\n",
    "\n",
    "print(result_set)"
   ]
  },
  {
   "cell_type": "code",
   "execution_count": 15,
   "id": "07859fd6-a784-49af-bacc-c8126f426fc9",
   "metadata": {},
   "outputs": [
    {
     "name": "stdout",
     "output_type": "stream",
     "text": [
      "{1, 2, 5, 6}\n"
     ]
    }
   ],
   "source": [
    "# .symmetric_difference_update\n",
    "# this method is useful for updating a set with the elements that are unique to each of two sets\n",
    "set1 = {1, 2, 3, 4}\n",
    "set2 = {3, 4, 5, 6}\n",
    "\n",
    "set1.symmetric_difference_update(set2)\n",
    "\n",
    "print(set1)"
   ]
  },
  {
   "cell_type": "markdown",
   "id": "cc2ccf7a-3be3-4585-afd9-95e7a57d2139",
   "metadata": {},
   "source": [
    "## Dictionary\n",
    "* In Python, a dictionary is a built-in data type that stores a collection of key-value pairs. It is also known as an associative array, map, or hash table in other programming languages"
   ]
  },
  {
   "cell_type": "markdown",
   "id": "f20f6376-6be3-4d61-84c0-46a674a2590f",
   "metadata": {},
   "source": [
    "1. Stores value/elements in key : value pair\n",
    "2. It is ordered,changeable and does not allow duplicates\n",
    "3. { } are used to write dictionaries\n",
    "4. Items are accsesed by using keys"
   ]
  },
  {
   "cell_type": "code",
   "execution_count": 17,
   "id": "74297ac2-31f7-4083-a16b-733291e16616",
   "metadata": {},
   "outputs": [
    {
     "name": "stdout",
     "output_type": "stream",
     "text": [
      "{'name1': 'SURAJ', 'name2': 'SUMIT', 'name3': 'UTKARSH', 'name4': 'VIPUL'}\n",
      "<class 'dict'> \n",
      "\n",
      "UTKARSH \n",
      "\n"
     ]
    },
    {
     "data": {
      "text/plain": [
       "'SUMIT'"
      ]
     },
     "execution_count": 17,
     "metadata": {},
     "output_type": "execute_result"
    }
   ],
   "source": [
    "# accessing specific key using direct & get method\n",
    "a = {\n",
    "    \"name1\" : \"SURAJ\",\n",
    "    \"name2\" : \"SUMIT\",\n",
    "    \"name3\" : \"UTKARSH\",\n",
    "    \"name4\" : \"VIPUL\"\n",
    "}\n",
    "print(a)\n",
    "print(type(a),\"\\n\")\n",
    "# using direct method\n",
    "\n",
    "print(a[\"name3\"],\"\\n\")\n",
    "\n",
    "# using get method\n",
    "\n",
    "a.get(\"name2\")"
   ]
  },
  {
   "cell_type": "code",
   "execution_count": 18,
   "id": "3d5b0030-f980-44bb-87d5-894c88867bb4",
   "metadata": {},
   "outputs": [
    {
     "name": "stdout",
     "output_type": "stream",
     "text": [
      "{'Name': 'Suraj', 'Roll no.': 17, 'Class': 'T.Y BE', 'CGPA': 7.9} \n",
      "\n",
      "Keys in Dict1:\n",
      "dict_keys(['Name', 'Roll no.', 'Class', 'CGPA']) \n",
      "\n",
      "Values in Dict1:\n",
      "dict_values(['Suraj', 17, 'T.Y BE', 7.9])\n"
     ]
    }
   ],
   "source": [
    "# accessing keys and values using .keys & .values method\n",
    "Dict1 = {\n",
    "    \"Name\" : \"Suraj\",\n",
    "    \"Roll no.\" : 17,\n",
    "    \"Class\" : \"T.Y BE\",\n",
    "    \"CGPA\" : 7.9 \n",
    "}\n",
    "print(Dict1,\"\\n\")\n",
    "\n",
    "# accessing keys in dictonary\n",
    "print('Keys in Dict1:')\n",
    "print(Dict1.keys(),'\\n')\n",
    "\n",
    "# accessing values in dictonary\n",
    "print('Values in Dict1:')\n",
    "print(Dict1.values())"
   ]
  },
  {
   "cell_type": "code",
   "execution_count": 19,
   "id": "c174af4f-0e54-46b6-83fc-137a22914dc7",
   "metadata": {},
   "outputs": [
    {
     "name": "stdout",
     "output_type": "stream",
     "text": [
      "{'Name': 'Suraj', 'Roll no.': 17, 'Class': 'T.Y BE', 'CGPA': 7.9} \n",
      "\n",
      "{'Name': 'Suraj', 'Roll no.': 17, 'Class': 'T.Y BE', 'CGPA': 7.9, 'Mobile no.': 1234567890, 'City': 'Pune', 'Town': 'Dhayri'} \n",
      "\n",
      "dict_keys(['Name', 'Roll no.', 'Class', 'CGPA', 'Mobile no.', 'City', 'Town']) \n",
      "\n",
      "dict_values(['Suraj', 17, 'T.Y BE', 7.9, 1234567890, 'Pune', 'Dhayri']) \n",
      "\n",
      "Length of keys: 7\n",
      "Length of values: 7\n"
     ]
    }
   ],
   "source": [
    "# adding elements in dictionary\n",
    "Dict1 = {\n",
    "    \"Name\" : \"Suraj\",\n",
    "    \"Roll no.\" : 17,\n",
    "    \"Class\" : \"T.Y BE\",\n",
    "    \"CGPA\" : 7.9\n",
    "}\n",
    "print(Dict1,\"\\n\")\n",
    "\n",
    "Dict1['Mobile no.'] = 1234567890\n",
    "Dict1[\"City\"] = \"Pune\"\n",
    "Dict1['Town'] = \"Dhayri\"\n",
    "print(Dict1,\"\\n\")\n",
    "\n",
    "print(Dict1.keys(),'\\n')\n",
    "print(Dict1.values(),'\\n')\n",
    "print('Length of keys:',len(Dict1.keys()))\n",
    "print('Length of values:',len(Dict1.values()))"
   ]
  },
  {
   "cell_type": "code",
   "execution_count": 20,
   "id": "14ddc10e-888d-4a95-b31f-2f0be03938b2",
   "metadata": {},
   "outputs": [
    {
     "name": "stdout",
     "output_type": "stream",
     "text": [
      "{'Name': 'Suraj', 'Roll no.': 17, 'Class': 'T.Y BE', 'CGPA': 7.9, 'Mobile no.': 1234567890, 'City': 'Pune', 'Town': 'Dhayri'}\n",
      "\n",
      "\n",
      "{'Name': 'Suraj', 'Roll no.': 17, 'Class': 'T.Y BE', 'CGPA': 7.9, 'Mobile no.': 1234567890, 'City': 'Pune', 'Town': 'Dhayri', 'Percentage': 85.71}\n"
     ]
    }
   ],
   "source": [
    "# changing values using keys\n",
    "print(Dict1)\n",
    "\n",
    "Dict1['Roll no.'] = 17\n",
    "Dict1['Percentage'] = 85.71\n",
    "Dict1['Town'] = 'Dhayri'\n",
    "print('\\n')\n",
    "print(Dict1)"
   ]
  },
  {
   "cell_type": "code",
   "execution_count": 21,
   "id": "246b56a4-fbbd-40a6-8679-564611a99760",
   "metadata": {},
   "outputs": [
    {
     "name": "stdout",
     "output_type": "stream",
     "text": [
      "dict_items([('Name', 'Suraj'), ('Roll no.', 17), ('Class', 'T.Y BE'), ('CGPA', 7.9), ('Mobile no.', 1234567890), ('City', 'Pune'), ('Town', 'Dhayri'), ('Percentage', 85.71)]) \n",
      "\n",
      "dict_items([('Name', 'Suraj'), ('Roll no.', 17), ('Class', 'T.Y BE'), ('CGPA', 7.9), ('Mobile no.', 1234567890), ('City', 'Pune'), ('Town', 'Dhayri'), ('Percentage', 85.71), ('Email Id', 'surajkedari@gmail.com'), ('Subject', 'Data Science')])\n"
     ]
    }
   ],
   "source": [
    "# .update in dictonary\n",
    "# it adds one or more key:value to the dictonary\n",
    "\n",
    "print(Dict1.items(),'\\n')\n",
    "\n",
    "Dict1.update({\n",
    "    'Email Id' : 'surajkedari@gmail.com',\n",
    "    'Subject' : \"Data Science\"\n",
    "})\n",
    "print(Dict1.items())"
   ]
  },
  {
   "cell_type": "markdown",
   "id": "2b24c32b-17cc-40eb-ab30-8387e5218b48",
   "metadata": {},
   "source": [
    "## Operators\n",
    "\n",
    "* operators are symbols which perform certain operations\n",
    "    Python operators\n",
    "    \n",
    "1) Arithmetic operators\n",
    "2) Assignment operators\n",
    "3) Comparison operators\n",
    "4) Logical operators\n",
    "5) Identity operators\n",
    "6) Membership operators\n",
    "7) Bitwise operators"
   ]
  },
  {
   "cell_type": "markdown",
   "id": "3d84e474-15ed-423b-a6e6-37a7af4b4c5e",
   "metadata": {},
   "source": [
    "### Arithmetic operators\n",
    "\n",
    "1) Addition +\n",
    "2) Subtraction -\n",
    "3) Multiplication *\n",
    "4) Division /\n",
    "5) Modulus %\n",
    "6) Exponentiation **\n",
    "7) Floor division //"
   ]
  },
  {
   "cell_type": "code",
   "execution_count": 22,
   "id": "f6644f50-9e49-4fc5-81c3-87138cb42194",
   "metadata": {},
   "outputs": [
    {
     "name": "stdout",
     "output_type": "stream",
     "text": [
      "Addition of x and y: 29 \n",
      "\n",
      "Subtraction of x and y: 15 \n",
      "\n",
      "Multiplication of x and y: 154 \n",
      "\n",
      "Division of x and y: 3.142857142857143 \n",
      "\n",
      "Modulus of x and y: 1 \n",
      "\n",
      "Exponentiation of x and y: 2494357888 \n",
      "\n",
      "Floor division of x and y: 3 \n",
      "\n"
     ]
    }
   ],
   "source": [
    "x = 22\n",
    "y = 7\n",
    "\n",
    "# Addition\n",
    "z = x + y\n",
    "print(\"Addition of x and y:\",z,'\\n')\n",
    "\n",
    "# Subtraction\n",
    "z = x - y\n",
    "print(\"Subtraction of x and y:\",z,'\\n')\n",
    "\n",
    "# Multiplication\n",
    "z = x * y\n",
    "print(\"Multiplication of x and y:\",z,'\\n')\n",
    "\n",
    "# Division\n",
    "z = x / y\n",
    "print(\"Division of x and y:\",z,'\\n')\n",
    "\n",
    "# Modulus\n",
    "z = x % y\n",
    "print(\"Modulus of x and y:\",z,'\\n')\n",
    "\n",
    "# Exponentiation\n",
    "z = x ** y\n",
    "print(\"Exponentiation of x and y:\",z,'\\n')\n",
    "\n",
    "# Floor division\n",
    "z = x // y\n",
    "print(\"Floor division of x and y:\",z,'\\n')"
   ]
  },
  {
   "cell_type": "markdown",
   "id": "bd48b527-6358-4ebd-9f21-73563011cdf2",
   "metadata": {},
   "source": [
    "## Assignment operators\n",
    "\n",
    "1) simple assign     (x = 5)\n",
    "2) Add & assign      (x += 5)\n",
    "3) Sub & assign      (x -= 5)\n",
    "4) multi & assign    (x *= 5)\n",
    "5) divide & assign   (x /= 5)\n",
    "6) modulus & assign  (x %= 5)\n",
    "7) floor d & assign  (x //= 5)\n",
    "8) exponent & assign (x **= 5)"
   ]
  },
  {
   "cell_type": "code",
   "execution_count": 25,
   "id": "90c281d6-7c57-4da1-badb-4e586546a2fc",
   "metadata": {},
   "outputs": [
    {
     "data": {
      "text/plain": [
       "12"
      ]
     },
     "execution_count": 25,
     "metadata": {},
     "output_type": "execute_result"
    }
   ],
   "source": [
    "#simple assign\n",
    "x = 12\n",
    "x"
   ]
  },
  {
   "cell_type": "code",
   "execution_count": 26,
   "id": "f1204007-b4bc-4929-a1ce-4bc86d7faa84",
   "metadata": {},
   "outputs": [
    {
     "data": {
      "text/plain": [
       "112"
      ]
     },
     "execution_count": 26,
     "metadata": {},
     "output_type": "execute_result"
    }
   ],
   "source": [
    "#Add & assign\n",
    "x += 100\n",
    "x"
   ]
  },
  {
   "cell_type": "code",
   "execution_count": 27,
   "id": "2fa4e96e-0f82-40d8-af37-bdb0da3422c5",
   "metadata": {},
   "outputs": [
    {
     "data": {
      "text/plain": [
       "37"
      ]
     },
     "execution_count": 27,
     "metadata": {},
     "output_type": "execute_result"
    }
   ],
   "source": [
    "#Sub & assign\n",
    "x -= 75\n",
    "x"
   ]
  },
  {
   "cell_type": "code",
   "execution_count": 28,
   "id": "83eeb5e1-9174-49d3-8287-b5a5f3d3184d",
   "metadata": {},
   "outputs": [
    {
     "data": {
      "text/plain": [
       "185"
      ]
     },
     "execution_count": 28,
     "metadata": {},
     "output_type": "execute_result"
    }
   ],
   "source": [
    "#Multi & assign\n",
    "x *= 5\n",
    "x"
   ]
  },
  {
   "cell_type": "code",
   "execution_count": 29,
   "id": "cb731307-1ac8-4f40-8422-d0025208a551",
   "metadata": {},
   "outputs": [
    {
     "data": {
      "text/plain": [
       "18.5"
      ]
     },
     "execution_count": 29,
     "metadata": {},
     "output_type": "execute_result"
    }
   ],
   "source": [
    "#Divide & assign\n",
    "x /= 10\n",
    "x"
   ]
  },
  {
   "cell_type": "code",
   "execution_count": 30,
   "id": "aafeb4d8-c44a-44b2-949f-18772e262399",
   "metadata": {},
   "outputs": [
    {
     "data": {
      "text/plain": [
       "3.5"
      ]
     },
     "execution_count": 30,
     "metadata": {},
     "output_type": "execute_result"
    }
   ],
   "source": [
    "#Modulo & assign\n",
    "x %= 5\n",
    "x"
   ]
  },
  {
   "cell_type": "code",
   "execution_count": 31,
   "id": "3ad4a2cf-278a-4f30-9681-a9736925edaf",
   "metadata": {},
   "outputs": [
    {
     "data": {
      "text/plain": [
       "3.0"
      ]
     },
     "execution_count": 31,
     "metadata": {},
     "output_type": "execute_result"
    }
   ],
   "source": [
    "#Floor division & assign\n",
    "x //= 1\n",
    "x"
   ]
  },
  {
   "cell_type": "code",
   "execution_count": 32,
   "id": "aff20667-3f2b-4fdc-a67b-16beab1f4092",
   "metadata": {},
   "outputs": [
    {
     "data": {
      "text/plain": [
       "59049.0"
      ]
     },
     "execution_count": 32,
     "metadata": {},
     "output_type": "execute_result"
    }
   ],
   "source": [
    "#Exponent & assign\n",
    "x **= 10\n",
    "x"
   ]
  },
  {
   "cell_type": "markdown",
   "id": "7f965fdf-7cab-41db-9eaa-f460951f8ce6",
   "metadata": {},
   "source": [
    "## Comparison operators\n",
    "1. Equal to:- (==)\n",
    "2. Not equal to:- (!=)\n",
    "3. Greater than:- (>)\n",
    "4. Less than:- (<)\n",
    "5. Greater  than or equal to:- (>=)\n",
    "6. Less than or equal to:- (<=)"
   ]
  },
  {
   "cell_type": "code",
   "execution_count": 33,
   "id": "cc9cae73-67b8-4ef3-b0a0-79abafebee93",
   "metadata": {},
   "outputs": [
    {
     "name": "stdout",
     "output_type": "stream",
     "text": [
      "Equal to operator:- False \n",
      "\n",
      "Not equal to operator:- True \n",
      "\n",
      "Greater than operator:- True \n",
      "\n",
      "Less than operator:- False \n",
      "\n",
      "Greater than or equal to operator:- True \n",
      "\n",
      "Less than or equal to operator:- False \n",
      "\n"
     ]
    }
   ],
   "source": [
    "a = 250\n",
    "b = 45\n",
    "\n",
    "print(\"Equal to operator:-\",a == b,'\\n')\n",
    "\n",
    "print(\"Not equal to operator:-\",a != b,'\\n')\n",
    "\n",
    "print(\"Greater than operator:-\",a > b,'\\n')\n",
    "\n",
    "print(\"Less than operator:-\",a < b,'\\n')\n",
    "\n",
    "print(\"Greater than or equal to operator:-\",a >= b,'\\n')\n",
    "\n",
    "print(\"Less than or equal to operator:-\",a <= b,'\\n')"
   ]
  },
  {
   "cell_type": "markdown",
   "id": "2abe0709-a2b6-4263-ab2e-53ec9a00b778",
   "metadata": {},
   "source": [
    "## Logical operators\n",
    "\n",
    "1. and   (Returns True if both statements are true)\n",
    "2. or    (Returns True if one of the statements is true)\n",
    "3. not   (Reverse the result, returns False if the result is true)"
   ]
  },
  {
   "cell_type": "code",
   "execution_count": 34,
   "id": "ca8ed85a-89d3-4a8f-b0e6-6bd296bc39b9",
   "metadata": {},
   "outputs": [
    {
     "name": "stdout",
     "output_type": "stream",
     "text": [
      "and operator:\n",
      "False\n",
      "True \n",
      "\n",
      "or operator:\n",
      "True\n",
      "False \n",
      "\n",
      "not operator:\n",
      "False\n",
      "True\n"
     ]
    }
   ],
   "source": [
    "x = 10 \n",
    "\n",
    "# and operator  \n",
    "print('and operator:')\n",
    "print(x < 11 and x > 12)\n",
    "print(x < 21 and x > 9,'\\n')\n",
    "\n",
    "# or operator\n",
    "print('or operator:')\n",
    "print(x < 19 or x > 1)\n",
    "print(x < 1 or x > 44,'\\n')\n",
    "\n",
    "# not operator\n",
    "print('not operator:')\n",
    "print(not x < 12)\n",
    "print(not x > 56 )"
   ]
  },
  {
   "cell_type": "markdown",
   "id": "9448b98d-2d03-473f-83bc-647b912389ea",
   "metadata": {},
   "source": [
    "## Identity operator \n",
    "\n",
    "1. is (Returns True if both variables are the same object)\n",
    "2. is not (Returns True if both variables are not the same object)"
   ]
  },
  {
   "cell_type": "code",
   "execution_count": 38,
   "id": "c47a9981-5324-482b-a002-2ec899850e42",
   "metadata": {},
   "outputs": [
    {
     "name": "stdout",
     "output_type": "stream",
     "text": [
      "True \n",
      "\n",
      "False\n"
     ]
    }
   ],
   "source": [
    "# is operator\n",
    "\n",
    "x = 12\n",
    "y = 12\n",
    "print(x is y,'\\n')\n",
    "\n",
    "a = 21\n",
    "b = 80\n",
    "print(a is b)"
   ]
  },
  {
   "cell_type": "code",
   "execution_count": 39,
   "id": "672af914-796d-4b79-a3c8-4193d3365b36",
   "metadata": {},
   "outputs": [
    {
     "name": "stdout",
     "output_type": "stream",
     "text": [
      "True \n",
      "\n",
      "False\n"
     ]
    }
   ],
   "source": [
    "# is not operator\n",
    "\n",
    "x = 12\n",
    "y = 20\n",
    "print(x is not y,'\\n')\n",
    "\n",
    "a = 100\n",
    "b = 100\n",
    "print(a is not b)"
   ]
  },
  {
   "cell_type": "markdown",
   "id": "8095c859-a323-4061-b05c-00a861569854",
   "metadata": {},
   "source": [
    "## Membership operators\n",
    "\n",
    "1. in (Returns True if a sequence with the specified value is present in the object)\n",
    "2. not in (Returns True if a sequence with the specified value is not present in the object)"
   ]
  },
  {
   "cell_type": "code",
   "execution_count": 40,
   "id": "1aed8dd9-c326-49da-b955-9691be1f80a9",
   "metadata": {},
   "outputs": [
    {
     "name": "stdout",
     "output_type": "stream",
     "text": [
      "[10, 20, 30, 40, 50, 60, 70, 80, 90] \n",
      "\n",
      "True\n",
      "False\n",
      "True\n",
      "False\n"
     ]
    }
   ],
   "source": [
    "# in \n",
    "# Returns True if a sequence with the specified value is present in the object\n",
    "a = [10,20,30,40,50,60,70,80,90]\n",
    "\n",
    "print(a,'\\n')\n",
    "\n",
    "print(10 in a)\n",
    "print(55 in a)\n",
    "print(90 in a)\n",
    "print(11 in a)"
   ]
  },
  {
   "cell_type": "code",
   "execution_count": 41,
   "id": "9dcecca5-997e-47ab-8f17-33766c220f70",
   "metadata": {},
   "outputs": [
    {
     "name": "stdout",
     "output_type": "stream",
     "text": [
      "[11, 22, 33, 44, 55, 66, 77, 88, 99] \n",
      "\n",
      "False\n",
      "True\n",
      "False\n",
      "True\n"
     ]
    }
   ],
   "source": [
    "# not in\n",
    "# Returns True if a sequence with the specified value is not present in the object\n",
    "a = [11,22,33,44,55,66,77,88,99]\n",
    "\n",
    "print(a,'\\n')\n",
    "\n",
    "print(11 not in a)\n",
    "print(12 not in a)\n",
    "print(88 not in a)\n",
    "print(54 not in a)"
   ]
  },
  {
   "cell_type": "markdown",
   "id": "6025a47f-0e55-4e80-a34f-f57e183b83e5",
   "metadata": {},
   "source": [
    "## Bitwise operators\n",
    "\n",
    "1. (&)\tAND\tSets each bit to 1 if both bits are 1\n",
    "2. (|)\tOR\tSets each bit to 1 if one of two bits is 1\n",
    "3. (^)\tXOR\tSets each bit to 1 if only one of two bits is 1\n",
    "4. (~)\tNOT\tInverts all the bits\n",
    "5. (<<)\tZero fill left shift\tShift left by pushing zeros in from the right and let the leftmost bits fall off\n",
    "6. (>>)\tSigned right shift\tShift right by pushing copies of the leftmost bit in from the left, and let the rightmost bits fall off"
   ]
  },
  {
   "cell_type": "markdown",
   "id": "56c4e9a8-0b1a-41b5-a57e-015ec4348df5",
   "metadata": {},
   "source": [
    "1. Bitwise AND ('&'):"
   ]
  },
  {
   "cell_type": "code",
   "execution_count": 44,
   "id": "3d45cb6f-696a-48a1-9dfc-bd36ee9e95f4",
   "metadata": {},
   "outputs": [
    {
     "name": "stdout",
     "output_type": "stream",
     "text": [
      "1\n"
     ]
    }
   ],
   "source": [
    "a = 5  # 101 in binary\n",
    "b = 3  # 011 in binary\n",
    "result = a & b\n",
    "print(result)  # Output: 1 (001 in binary)\n"
   ]
  },
  {
   "cell_type": "markdown",
   "id": "d80fd31e-6ac3-4639-9564-e6e768c3239f",
   "metadata": {},
   "source": [
    "2. Bitwise OR ('|'):"
   ]
  },
  {
   "cell_type": "code",
   "execution_count": 43,
   "id": "b94bdd62-d5e6-4c54-b4b0-8351a560c746",
   "metadata": {},
   "outputs": [
    {
     "name": "stdout",
     "output_type": "stream",
     "text": [
      "7\n"
     ]
    }
   ],
   "source": [
    "a = 5  # 101 in binary\n",
    "b = 3  # 011 in binary\n",
    "result = a | b\n",
    "print(result)  # Output: 7 (111 in binary)\n"
   ]
  },
  {
   "cell_type": "markdown",
   "id": "b1669025-e256-4987-83e4-c622b8d3b3b0",
   "metadata": {},
   "source": [
    "3. Bitwise XOR ('^'):"
   ]
  },
  {
   "cell_type": "code",
   "execution_count": 45,
   "id": "77579291-ccac-43f0-8f02-72737cb1289f",
   "metadata": {},
   "outputs": [
    {
     "name": "stdout",
     "output_type": "stream",
     "text": [
      "6\n"
     ]
    }
   ],
   "source": [
    "a = 5  # 101 in binary\n",
    "b = 3  # 011 in binary\n",
    "result = a ^ b\n",
    "print(result)  # Output: 6 (110 in binary)\n"
   ]
  },
  {
   "cell_type": "markdown",
   "id": "7ada36dc-7814-42cd-a745-45743d94c8bd",
   "metadata": {},
   "source": [
    "4. Bitwise NOT ('~'):"
   ]
  },
  {
   "cell_type": "code",
   "execution_count": 46,
   "id": "0b4ec220-652f-4879-93b3-d5d04b4a6bad",
   "metadata": {},
   "outputs": [
    {
     "name": "stdout",
     "output_type": "stream",
     "text": [
      "-6\n"
     ]
    }
   ],
   "source": [
    "a = 5  # 101 in binary\n",
    "result = ~a\n",
    "print(result)  # Output: -6 (two's complement representation)\n"
   ]
  },
  {
   "cell_type": "markdown",
   "id": "df1e11e0-a2c0-4e36-914f-691f8de5ebed",
   "metadata": {},
   "source": [
    "5. Left Shift ('<<'):"
   ]
  },
  {
   "cell_type": "code",
   "execution_count": 48,
   "id": "3f3ecd3d-d1c3-42fd-ad55-9add7aa03270",
   "metadata": {},
   "outputs": [
    {
     "name": "stdout",
     "output_type": "stream",
     "text": [
      "10\n"
     ]
    }
   ],
   "source": [
    "a = 5  # 101 in binary\n",
    "result = a << 1\n",
    "print(result)  # Output: 10 (1010 in binary)\n"
   ]
  },
  {
   "cell_type": "markdown",
   "id": "e5acadd7-a3e7-499f-9793-40c3e7125834",
   "metadata": {},
   "source": [
    "6. Right Shift ('>>'):"
   ]
  },
  {
   "cell_type": "code",
   "execution_count": 49,
   "id": "80c0beb4-1352-4e64-b773-cd84f851088f",
   "metadata": {},
   "outputs": [
    {
     "name": "stdout",
     "output_type": "stream",
     "text": [
      "2\n"
     ]
    }
   ],
   "source": [
    "a = 5  # 101 in binary\n",
    "result = a >> 1\n",
    "print(result)  # Output: 2 (10 in binary)\n"
   ]
  },
  {
   "cell_type": "markdown",
   "id": "a92b023e-293d-4435-9617-62061019d6b6",
   "metadata": {},
   "source": [
    "These operators manipulate individual bits of integers. Understanding bitwise operations is crucial in scenarios where low-level manipulation is required, such as in certain algorithms or when working with hardware-related programming."
   ]
  },
  {
   "cell_type": "markdown",
   "id": "3aac8bc3-3e09-4da0-adc4-fe7e7356e0e0",
   "metadata": {},
   "source": [
    "## Conditional statements and Loops \n",
    "\n",
    "1. if , else\n",
    "2. if , elif , else\n",
    "3. while loop\n",
    "4. for loop"
   ]
  },
  {
   "cell_type": "markdown",
   "id": "bf2e8a34-aa92-4417-b662-5b572d1f6e19",
   "metadata": {},
   "source": [
    "### if else\n",
    "* Executes one block of code if the condition is true and another block if the condition is false."
   ]
  },
  {
   "cell_type": "code",
   "execution_count": 1,
   "id": "3556d91d-99b5-4498-83c3-fdb06e144aba",
   "metadata": {},
   "outputs": [
    {
     "name": "stdout",
     "output_type": "stream",
     "text": [
      "b is greater than a\n",
      "\n",
      "\n",
      "x is less than y\n",
      "\n",
      "\n",
      "c is equal to d\n"
     ]
    }
   ],
   "source": [
    "# if else condition\n",
    "\n",
    "#1)\n",
    "a = 50\n",
    "b = 75\n",
    "\n",
    "if a > b:\n",
    "    print('a is greater than b')\n",
    "else:\n",
    "    print('b is greater than a')\n",
    "print('\\n')\n",
    "\n",
    "#2)\n",
    "x = 257\n",
    "y = 452\n",
    "\n",
    "if x < y: \n",
    "    print('x is less than y')\n",
    "else:\n",
    "    print('y is greater than x')\n",
    "print('\\n')\n",
    "\n",
    "#3)\n",
    "c = 999\n",
    "d = 999\n",
    "\n",
    "if c != d:\n",
    "    print('c is not equal to d')\n",
    "else:\n",
    "    print('c is equal to d')"
   ]
  },
  {
   "cell_type": "markdown",
   "id": "9ce10c77-1425-4591-b009-0b10189aa02b",
   "metadata": {},
   "source": [
    "### if elif else\n",
    "* Allows checking multiple conditions and executing different blocks of code accordingly."
   ]
  },
  {
   "cell_type": "code",
   "execution_count": 2,
   "id": "401c4f7a-6e17-4d21-8e31-2d4736fd0571",
   "metadata": {},
   "outputs": [
    {
     "name": "stdout",
     "output_type": "stream",
     "text": [
      "a is less than b\n",
      "\n",
      "\n",
      "x is equal to y\n",
      "\n",
      "\n",
      "c is not equal to d\n"
     ]
    }
   ],
   "source": [
    "# if elif else condition\n",
    "# you can add as many elif as you want\n",
    "\n",
    "#1)\n",
    "a = 45\n",
    "b = 67\n",
    "\n",
    "if a > b:\n",
    "    print('a is greater than b')\n",
    "elif a < b:\n",
    "    print('a is less than b')\n",
    "else:\n",
    "    print('b is greater than a')\n",
    "print('\\n')\n",
    "\n",
    "#2)\n",
    "x = 98\n",
    "y = 98\n",
    "\n",
    "if x != y:\n",
    "    print('x is not equal to y')\n",
    "elif x < y:\n",
    "    print('x is less than and equal to y')\n",
    "elif x == y:\n",
    "    print('x is equal to y')\n",
    "else:\n",
    "    print('y is equal to x')\n",
    "print('\\n')    \n",
    "\n",
    "#3)\n",
    "c = 34\n",
    "d = 89\n",
    "\n",
    "if c == d:\n",
    "    print('c is equal to d')\n",
    "elif c > d:\n",
    "    print('c is greater than d')\n",
    "elif d < c:\n",
    "    print('d is less than c')\n",
    "elif c != d:\n",
    "    print('c is not equal to d')\n",
    "else:\n",
    "    print('c is less than d')"
   ]
  },
  {
   "cell_type": "code",
   "execution_count": 3,
   "id": "dcc13a75-e785-4bce-bdf3-49ea990f07e1",
   "metadata": {},
   "outputs": [
    {
     "name": "stdout",
     "output_type": "stream",
     "text": [
      "x is less than y \n",
      "\n",
      "a is equal to b \n",
      "\n",
      "c is greater than d\n"
     ]
    }
   ],
   "source": [
    "# short hand if statement\n",
    "#1)\n",
    "x = 15\n",
    "y = 20\n",
    "\n",
    "if x < y: print('x is less than y','\\n')\n",
    "    \n",
    "#2)\n",
    "a = 23\n",
    "b = 23\n",
    "\n",
    "if a == b: print('a is equal to b','\\n')\n",
    "    \n",
    "#3)\n",
    "c = 78\n",
    "d = 34\n",
    "\n",
    "if c > d: print('c is greater than d')"
   ]
  },
  {
   "cell_type": "code",
   "execution_count": 4,
   "id": "a39754df-8a21-4bc0-b737-c0177b6dea44",
   "metadata": {},
   "outputs": [
    {
     "name": "stdout",
     "output_type": "stream",
     "text": [
      "x is less than y \n",
      "\n",
      "a is not equal to b \n",
      "\n",
      "c is equal to d \n"
     ]
    }
   ],
   "source": [
    "# short hand if else statement\n",
    "#1)\n",
    "x = 34\n",
    "y = 56\n",
    "\n",
    "print(('x is greater than y'),'\\n')if x > y else print(('x is less than y'),'\\n')\n",
    "\n",
    "#2)\n",
    "a = 54\n",
    "b = 56\n",
    "\n",
    "print (('a is not equal to b'),'\\n') if a != b else print(('a is equal to b'),'\\n')\n",
    "\n",
    "#3)\n",
    "c = 78\n",
    "d = 78\n",
    "\n",
    "print('c is not equal to d') if c != d else print('c is equal to d ')"
   ]
  },
  {
   "cell_type": "code",
   "execution_count": 5,
   "id": "90cde448-271a-4172-838e-adf2a6990cfe",
   "metadata": {},
   "outputs": [],
   "source": [
    "# pass statement\n",
    "\n",
    "x = 78\n",
    "y = 67\n",
    "\n",
    "if x < y:\n",
    "    print(\"x is greater than y\")\n",
    "pass"
   ]
  },
  {
   "cell_type": "markdown",
   "id": "ba8a62cc-b5f2-4c99-adc5-a18cf5aedcbe",
   "metadata": {},
   "source": [
    "## while loop\n",
    "* Executes a block of code as long as the specified condition is true."
   ]
  },
  {
   "cell_type": "code",
   "execution_count": 6,
   "id": "81bc9685-df0d-4977-950c-69f17925db11",
   "metadata": {},
   "outputs": [
    {
     "name": "stdout",
     "output_type": "stream",
     "text": [
      "0\n",
      "1\n",
      "2\n",
      "3\n",
      "4\n",
      "5\n",
      "6\n",
      "7\n",
      "8\n",
      "9\n",
      "10\n"
     ]
    }
   ],
   "source": [
    "# print series of numbers\n",
    "\n",
    "a = 0\n",
    "\n",
    "while a <= 10:\n",
    "    print(a)\n",
    "    a = a + 1"
   ]
  },
  {
   "cell_type": "code",
   "execution_count": 7,
   "id": "b79960d3-a5db-4884-96cb-c6069a5adf94",
   "metadata": {},
   "outputs": [
    {
     "name": "stdout",
     "output_type": "stream",
     "text": [
      "1\n",
      "2\n",
      "3\n",
      "4\n",
      "5\n",
      "6\n",
      "7\n",
      "8\n",
      "9\n",
      "10\n",
      "11\n",
      "12\n"
     ]
    }
   ],
   "source": [
    "# break statement\n",
    "\n",
    "x = 1\n",
    "\n",
    "while x <= 20:\n",
    "    print(x)\n",
    "    if x == 12:\n",
    "        break\n",
    "    x = x + 1"
   ]
  },
  {
   "cell_type": "code",
   "execution_count": 8,
   "id": "48f9d892-c6ef-4f82-8bb3-15a6e77b4d9b",
   "metadata": {},
   "outputs": [
    {
     "name": "stdout",
     "output_type": "stream",
     "text": [
      "1\n",
      "2\n",
      "3\n",
      "4\n",
      "5\n",
      "6\n",
      "7\n",
      "9\n",
      "10\n",
      "11\n",
      "12\n",
      "13\n",
      "14\n",
      "16\n",
      "17\n",
      "18\n",
      "19\n",
      "20\n"
     ]
    }
   ],
   "source": [
    "# continue statement\n",
    "\n",
    "x = 1\n",
    "\n",
    "while x <= 20:\n",
    "    \n",
    "    if x == 15 or x == 8:\n",
    "        x += 1\n",
    "        continue\n",
    "    print(x)\n",
    "    x += 1"
   ]
  },
  {
   "cell_type": "code",
   "execution_count": 9,
   "id": "5ebb65b8-c5f6-4cfc-9090-b221653d29f3",
   "metadata": {},
   "outputs": [
    {
     "name": "stdout",
     "output_type": "stream",
     "text": [
      "1\n",
      "2\n",
      "3\n",
      "4\n",
      "5\n",
      "6\n",
      "7\n",
      "8\n",
      "9\n",
      "10\n",
      "11\n",
      "13\n",
      "14\n",
      "15\n",
      "16\n",
      "17\n",
      "18\n",
      "19\n",
      "20\n",
      "its enough\n"
     ]
    }
   ],
   "source": [
    "# else below while\n",
    "\n",
    "x = 1\n",
    "\n",
    "while x <= 20:\n",
    "    \n",
    "    if x == 12:\n",
    "        x += 1\n",
    "        continue\n",
    "    print(x)\n",
    "    x += 1\n",
    "else:       \n",
    "    print(\"its enough\")"
   ]
  },
  {
   "cell_type": "code",
   "execution_count": 10,
   "id": "a42e79f1-6685-4d40-baac-cac68bf99713",
   "metadata": {},
   "outputs": [
    {
     "name": "stdout",
     "output_type": "stream",
     "text": [
      "['apple', 'banana', 'mango', 'cherry', 'papaya', 'strawberry', 'orange'] \n",
      "\n",
      "While loop on list:\n",
      " \n",
      "apple\n",
      "banana\n",
      "mango\n",
      "cherry\n",
      "papaya\n",
      "strawberry\n",
      "orange\n"
     ]
    }
   ],
   "source": [
    "# while loop on list\n",
    "\n",
    "list1 = ['apple','banana','mango','cherry','papaya','strawberry','orange']\n",
    "print(list1,'\\n')\n",
    "\n",
    "print('While loop on list:\\n ')\n",
    "\n",
    "x = 0\n",
    "while x < len(list1):\n",
    "    print(list1[x])\n",
    "    x += 1"
   ]
  },
  {
   "cell_type": "code",
   "execution_count": 13,
   "id": "13d61534-0ea4-4648-a03c-08726714d0c5",
   "metadata": {},
   "outputs": [
    {
     "name": "stdout",
     "output_type": "stream",
     "text": [
      "('Suraj', 'Sumit', 'Naresh', 'Sahil', 'Utkarsh', 'Vipul') \n",
      "\n",
      "While loop on tuple:\n",
      " \n",
      "Suraj\n",
      "Sumit\n",
      "Naresh\n",
      "Sahil\n",
      "Utkarsh\n",
      "Vipul\n"
     ]
    }
   ],
   "source": [
    "# while loop on tuple\n",
    "\n",
    "a = ('Suraj','Sumit','Naresh','Sahil','Utkarsh', 'Vipul')\n",
    "print(a,'\\n')\n",
    "print('While loop on tuple:\\n ')\n",
    "\n",
    "x = 0\n",
    "while x < len(a):\n",
    "    print(a[x])\n",
    "    x += 1"
   ]
  },
  {
   "cell_type": "markdown",
   "id": "2d4894fe-b729-4721-877a-271f59cd3c57",
   "metadata": {},
   "source": [
    "## For loop\n",
    "* Executes a block of code a specified number of times."
   ]
  },
  {
   "cell_type": "code",
   "execution_count": 15,
   "id": "c6165de1-1a98-4c95-be6b-1f5651c8fb87",
   "metadata": {},
   "outputs": [
    {
     "name": "stdout",
     "output_type": "stream",
     "text": [
      "Suraj\n",
      "Sumit\n",
      "Utkarsh\n",
      "Vipul\n",
      "Naresh\n"
     ]
    }
   ],
   "source": [
    "# for loop\n",
    "\n",
    "a = ('Suraj','Sumit','Utkarsh','Vipul','Naresh')\n",
    "\n",
    "for r in a:\n",
    "    print(r)"
   ]
  },
  {
   "cell_type": "code",
   "execution_count": 16,
   "id": "20b48fd0-5f1b-4400-bcbd-fe2003c85a31",
   "metadata": {},
   "outputs": [
    {
     "name": "stdout",
     "output_type": "stream",
     "text": [
      "Vipul\n"
     ]
    }
   ],
   "source": [
    "# if statement in for loop\n",
    "# with this we can print any element in data type\n",
    "a = ('Suraj','Sumit','Utkarsh','Vipul','Naresh')\n",
    "\n",
    "for i in a:\n",
    "    if i == \"Vipul\":\n",
    "        print(i)"
   ]
  },
  {
   "cell_type": "code",
   "execution_count": 17,
   "id": "806eee0c-87a0-42ca-931c-910b2e6876eb",
   "metadata": {},
   "outputs": [
    {
     "name": "stdout",
     "output_type": "stream",
     "text": [
      "Python \n",
      "\n",
      "P\n",
      "y\n",
      "t\n",
      "h\n",
      "o\n",
      "n\n"
     ]
    }
   ],
   "source": [
    "## for loop\n",
    "a = \"Python\"\n",
    "print(a,'\\n')\n",
    "\n",
    "for characters in a:\n",
    "    print(characters)"
   ]
  },
  {
   "cell_type": "code",
   "execution_count": 18,
   "id": "01dd5eb7-90ae-46e5-9ccf-191e6266f9c4",
   "metadata": {},
   "outputs": [
    {
     "name": "stdout",
     "output_type": "stream",
     "text": [
      "10\n",
      "3\n",
      "40\n",
      "89\n",
      "70\n",
      "29\n",
      "10\n",
      "90\n"
     ]
    }
   ],
   "source": [
    "# for loop in tuple\n",
    "\n",
    "a = (10,3,40,67,89,70,29,10,90)\n",
    "\n",
    "for i in a:\n",
    "    \n",
    "    if i == 67:\n",
    "        #break\n",
    "        continue\n",
    "    print(i)"
   ]
  },
  {
   "cell_type": "code",
   "execution_count": 20,
   "id": "8857dad3-97e8-4fb6-922a-5157412b8b04",
   "metadata": {},
   "outputs": [
    {
     "name": "stdout",
     "output_type": "stream",
     "text": [
      "keys: \n",
      "Name\n",
      "Roll no.\n",
      "Class\n",
      "CGPA\n",
      "\n",
      "\n",
      "values: \n",
      "Suraj\n",
      "17\n",
      "T.Y BE\n",
      "7.02\n",
      "\n",
      "\n",
      "Another method to print keys and values\n",
      "Name\n",
      "Roll no.\n",
      "Class\n",
      "CGPA\n",
      "\n",
      "\n",
      "Keys and values pairs: \n",
      "Name : Suraj\n",
      "Roll no. : 17\n",
      "Class : T.Y BE\n",
      "CGPA : 7.02\n"
     ]
    }
   ],
   "source": [
    "# for loop in ditionary\n",
    "\n",
    "Dict1 = {\n",
    "    \"Name\" : \"Suraj\",\n",
    "    \"Roll no.\" : 17,\n",
    "    \"Class\" : \"T.Y BE\",\n",
    "    \"CGPA\" : 7.02\n",
    "}\n",
    "print('keys: ')\n",
    "for i in Dict1: # it will print keys by default\n",
    "    print(i)\n",
    "print('\\n')\n",
    "\n",
    "print('values: ') # it will print values\n",
    "for i in Dict1:\n",
    "    print(Dict1[i])\n",
    "print('\\n')\n",
    "\n",
    "print('Another method to print keys and values')\n",
    "for keys in Dict1.keys(): # another method to print keys and values \n",
    "    print(keys)\n",
    "print('\\n')\n",
    "    \n",
    "print('Keys and values pairs: ')\n",
    "for keys, values in Dict1.items():\n",
    "    print(keys,':',values)\n"
   ]
  },
  {
   "cell_type": "markdown",
   "id": "52cbdac4-e27e-4f6d-a0d1-8cf3b82814fc",
   "metadata": {},
   "source": [
    "## Range function\n",
    "* The range() function in Python is used to generate a sequence of numbers. It's commonly used with loops to iterate over a sequence of numbers a specific number of times. The 'range()' function can accept one, two, or three arguments:"
   ]
  },
  {
   "cell_type": "code",
   "execution_count": 21,
   "id": "fd71cf13-8ec7-4ec2-94f0-5ffba9c245a7",
   "metadata": {},
   "outputs": [
    {
     "name": "stdout",
     "output_type": "stream",
     "text": [
      "0\n",
      "1\n",
      "2\n",
      "3\n",
      "4\n",
      "5\n",
      "6\n",
      "7\n",
      "8\n",
      "9\n",
      "10\n",
      "11\n",
      "12\n",
      "13\n",
      "14\n",
      "15\n",
      "16\n",
      "17\n",
      "18\n",
      "19\n",
      "20\n"
     ]
    }
   ],
   "source": [
    "# range\n",
    "for i in range(21):\n",
    "    print(i)"
   ]
  },
  {
   "cell_type": "code",
   "execution_count": 22,
   "id": "e6e6d5ba-bdb2-49eb-b48f-2810b51fdaae",
   "metadata": {},
   "outputs": [
    {
     "name": "stdout",
     "output_type": "stream",
     "text": [
      "50\n",
      "51\n",
      "52\n",
      "53\n",
      "54\n",
      "55\n",
      "56\n",
      "57\n",
      "58\n",
      "59\n",
      "60\n"
     ]
    }
   ],
   "source": [
    "# range('val','to value')\n",
    "\n",
    "for i in range(50,61):\n",
    "    print(i)"
   ]
  },
  {
   "cell_type": "code",
   "execution_count": 23,
   "id": "feb69fff-1b82-43b3-a013-a4889f8108e0",
   "metadata": {},
   "outputs": [
    {
     "name": "stdout",
     "output_type": "stream",
     "text": [
      "0\n",
      "2\n",
      "4\n",
      "6\n",
      "8\n",
      "10\n",
      "12\n",
      "14\n",
      "16\n",
      "18\n",
      "20\n"
     ]
    }
   ],
   "source": [
    "# range('val','to value','skip steps value')\n",
    "\n",
    "for i in range(0,21,2):\n",
    "    print(i)"
   ]
  },
  {
   "cell_type": "markdown",
   "id": "e35cbbc8-831e-4e88-a6c2-2fbcd00f3f17",
   "metadata": {},
   "source": [
    "## Def"
   ]
  },
  {
   "cell_type": "code",
   "execution_count": 24,
   "id": "292cd182-a1da-4353-b615-585f1d635a22",
   "metadata": {},
   "outputs": [
    {
     "name": "stdout",
     "output_type": "stream",
     "text": [
      "My name is Suraj\n",
      "My name is Sumit\n"
     ]
    }
   ],
   "source": [
    "# calling the function \n",
    "def stud(name):\n",
    "    print(\"My name is\",name)\n",
    "    \n",
    "stud(\"Suraj\")\n",
    "stud(\"Sumit\")"
   ]
  },
  {
   "cell_type": "code",
   "execution_count": 25,
   "id": "b108cdfc-e084-4909-a4c1-bd18b74d7695",
   "metadata": {},
   "outputs": [
    {
     "name": "stdout",
     "output_type": "stream",
     "text": [
      "Multiplication of a & b:  275\n"
     ]
    }
   ],
   "source": [
    "# return\n",
    "\n",
    "def mul(a,b):\n",
    "    result = a * b\n",
    "    return result\n",
    "\n",
    "x = 5\n",
    "y = 55\n",
    "res = mul(x,y)\n",
    "print('Multiplication of a & b: ',res)"
   ]
  },
  {
   "cell_type": "code",
   "execution_count": 26,
   "id": "898b14d4-a373-4338-ac4e-44d6753770b9",
   "metadata": {},
   "outputs": [
    {
     "name": "stdout",
     "output_type": "stream",
     "text": [
      "('a', 'b', 'c', 'd', 'e', 'f')\n",
      "a\n",
      "b\n",
      "c\n",
      "d\n",
      "e\n",
      "f\n"
     ]
    }
   ],
   "source": [
    "# unknown parameters\n",
    "\n",
    "def display(*letter):\n",
    "    print(letter)\n",
    "    for i in letter:\n",
    "        print(i)\n",
    "    \n",
    "display('a','b','c','d','e','f')"
   ]
  },
  {
   "cell_type": "markdown",
   "id": "bd6561fb-d27b-4b2b-bd66-a1f5a20c5f64",
   "metadata": {},
   "source": [
    "## Lambda"
   ]
  },
  {
   "cell_type": "code",
   "execution_count": 27,
   "id": "1123f686-2919-464b-9b60-0e9237cabdbd",
   "metadata": {},
   "outputs": [
    {
     "name": "stdout",
     "output_type": "stream",
     "text": [
      "144\n"
     ]
    }
   ],
   "source": [
    "a = lambda num : num ** 2\n",
    "\n",
    "print(a(12))"
   ]
  },
  {
   "cell_type": "code",
   "execution_count": 28,
   "id": "cc8c706b-5c61-40ff-ad3b-b346d5de65de",
   "metadata": {},
   "outputs": [
    {
     "name": "stdout",
     "output_type": "stream",
     "text": [
      "Value of n:  2\n",
      "361\n"
     ]
    }
   ],
   "source": [
    "def myfun(n):\n",
    "    print(\"Value of n: \",n)\n",
    "    return (lambda a : a ** n)\n",
    "\n",
    "otherfun = myfun(2)\n",
    "print(otherfun(19))"
   ]
  },
  {
   "cell_type": "markdown",
   "id": "95ab3b6c-8a06-4cde-b297-1d046b1a09e8",
   "metadata": {},
   "source": [
    "## Class"
   ]
  },
  {
   "cell_type": "code",
   "execution_count": 29,
   "id": "70b22d64-bb6c-4f90-ace2-c3283ced61a8",
   "metadata": {},
   "outputs": [
    {
     "name": "stdout",
     "output_type": "stream",
     "text": [
      "Name: Suraj Kedari\n",
      "Roll no.: 17\n",
      "Age: 22\n"
     ]
    }
   ],
   "source": [
    "# simple class example\n",
    "class student():\n",
    "    #properties\n",
    "    name = \"Suraj Kedari\"\n",
    "    roll_no = 17\n",
    "    age = 22\n",
    "# object    \n",
    "obj1 = student()\n",
    "print(\"Name:\",obj1.name)\n",
    "print(\"Roll no.:\",obj1.roll_no)\n",
    "print(\"Age:\",obj1.age)"
   ]
  },
  {
   "cell_type": "code",
   "execution_count": 30,
   "id": "f17709a1-9300-442b-845f-a6d0a5d94230",
   "metadata": {},
   "outputs": [
    {
     "name": "stdout",
     "output_type": "stream",
     "text": [
      "Student Name: Suraj Kedari\n",
      "Roll No.: 22\n",
      "Mobile No.: 1234567890\n",
      "Age: 22 \n",
      "\n",
      "Student Name: Suraj Kedari\n",
      "Roll No.: 23\n",
      "Mobile No.: 1876543210\n",
      "Age: 22 \n",
      "\n",
      "Student Name: Suraj Kedari\n",
      "Roll No.: 24\n",
      "Mobile No.: 1212321415\n",
      "Age: 22\n"
     ]
    }
   ],
   "source": [
    "# real class function\n",
    "\n",
    "class student():\n",
    "    def __init__(self, name, roll_no, mobile_no, age):\n",
    "        self.name = name\n",
    "        self.roll_no = roll_no\n",
    "        self.mobile_no = mobile_no\n",
    "        self.age = age\n",
    "            \n",
    "obj_1 = student(\"Suraj Kedari\", 22, 1234567890, 22)\n",
    "obj_2 = student(\"Suraj Kedari\", 23, 1876543210, 22)\n",
    "obj_3 = student(\"Suraj Kedari\", 24, 1212321415, 22)\n",
    "\n",
    "print(\"Student Name:\",obj_1.name)\n",
    "print('Roll No.:',obj_1.roll_no)\n",
    "print('Mobile No.:',obj_1.mobile_no)\n",
    "print('Age:',obj_1.age,'\\n')\n",
    "\n",
    "print(\"Student Name:\",obj_2.name)\n",
    "print('Roll No.:',obj_2.roll_no)\n",
    "print('Mobile No.:',obj_2.mobile_no)\n",
    "print('Age:',obj_2.age,'\\n')\n",
    "\n",
    "print(\"Student Name:\",obj_3.name)\n",
    "print('Roll No.:',obj_3.roll_no)\n",
    "print('Mobile No.:',obj_3.mobile_no)\n",
    "print('Age:',obj_3.age)"
   ]
  },
  {
   "cell_type": "code",
   "execution_count": 31,
   "id": "48584b44-6803-4909-a59f-a8e562882789",
   "metadata": {},
   "outputs": [
    {
     "name": "stdout",
     "output_type": "stream",
     "text": [
      "Name of student:  Suraj Kedari\n",
      "Roll no. of student:  52\n",
      "Age of student:  22\n",
      "Year of student:  TY BE\n",
      "\n",
      "\n",
      "Name of student:  Sumit Jamdade\n",
      "Roll no. of student:  45\n",
      "Age of student:  20\n",
      "Year of student:  TY BE\n",
      "\n",
      "\n",
      "Name of student:  Vipul Kangale\n",
      "Roll no. of student:  67\n",
      "Age of student:  22\n",
      "Year of student:  TY BE\n",
      "\n",
      "\n",
      "Hii my name is Suraj Kedari My age is 22 \n",
      " I am studying TY BE And my roll no.is 52\n",
      "\n",
      "\n",
      "Hii my name is Sumit Jamdade My age is 20 \n",
      " I am studying TY BE And my roll no.is 45\n",
      "\n",
      "\n",
      "Hii my name is Vipul Kangale My age is 22 \n",
      " I am studying TY BE And my roll no.is 67\n",
      "\n",
      "\n"
     ]
    }
   ],
   "source": [
    "class student():\n",
    "    def __init__(self, name, roll_no, age, year):\n",
    "        self.name = name\n",
    "        self.roll_no = roll_no\n",
    "        self.age = age\n",
    "        self.year = year\n",
    "        \n",
    "    def display(self):\n",
    "        print('Name of student: ',self.name)\n",
    "        print('Roll no. of student: ',self.roll_no)\n",
    "        print('Age of student: ',self.age)\n",
    "        print('Year of student: ',self.year)\n",
    "        \n",
    "    def intro(self):\n",
    "        print('Hii my name is',self.name,'My age is',self.age,'\\n','I am studying',self.year,'And my roll no.is',self.roll_no)\n",
    "    \n",
    "r = student('Suraj Kedari', 52, 22, 'TY BE')\n",
    "s = student('Sumit Jamdade', 45, 20, 'TY BE')\n",
    "t = student('Vipul Kangale', 67, 22, 'TY BE')\n",
    "\n",
    "r.display()\n",
    "print('\\n')\n",
    "\n",
    "s.display()\n",
    "print('\\n')\n",
    "\n",
    "t.display()\n",
    "print('\\n')\n",
    "\n",
    "r.intro()\n",
    "print('\\n')\n",
    "\n",
    "s.intro()\n",
    "print('\\n')\n",
    "\n",
    "t.intro()\n",
    "print('\\n')"
   ]
  },
  {
   "cell_type": "markdown",
   "id": "3d9b47a7-dfbb-450f-9966-797c2386f543",
   "metadata": {},
   "source": [
    "## Inheritance"
   ]
  },
  {
   "cell_type": "code",
   "execution_count": 33,
   "id": "4624f37c-0f9f-4c9f-91b7-c99c69b95baa",
   "metadata": {},
   "outputs": [
    {
     "name": "stdout",
     "output_type": "stream",
     "text": [
      "First name: Suraj\n",
      "Last name: Kedari\n",
      "First name: Srushti\n",
      "Last name: Raskar\n"
     ]
    }
   ],
   "source": [
    "class person: # parent class \\ base class\n",
    "    def __init__(self, fname, lname):\n",
    "        self.fname = fname\n",
    "        self.lname = lname\n",
    "        \n",
    "    def display(self):\n",
    "        print('First name:',self.fname)\n",
    "        print('Last name:',self.lname)\n",
    "\n",
    "class student(person):# child class \\ derived class\n",
    "    pass\n",
    "\n",
    "a = student('Suraj','Kedari')\n",
    "b = student('Srushti','Raskar')\n",
    "\n",
    "a.display()\n",
    "b.display()"
   ]
  },
  {
   "cell_type": "code",
   "execution_count": 34,
   "id": "1c68bcd9-45f9-4a42-b83a-717ead2ee5f4",
   "metadata": {},
   "outputs": [
    {
     "name": "stdout",
     "output_type": "stream",
     "text": [
      "My name is Srushti Raskar and my age is 19.\n",
      "My name is Suraj Kedari and my age is 21. I am studying in T.Y BE and my roll no is 12\n"
     ]
    }
   ],
   "source": [
    "class person:\n",
    "    def __init__(self, fname, lname, age):\n",
    "        self.fname = fname\n",
    "        self.lname = lname\n",
    "        self.age = age\n",
    "    \n",
    "    def details(self):\n",
    "        print(f'My name is {self.fname} {self.lname} and my age is {self.age}.')\n",
    "        \n",
    "        \n",
    "class student(person):\n",
    "    def __init__(self, fname, lname, age, _class, _rollno):\n",
    "        person.__init__(self, fname, lname, age)\n",
    "        self._class = _class\n",
    "        self._rollno = _rollno\n",
    "        \n",
    "    def studdetails(self):\n",
    "        print(f'My name is {self.fname} {self.lname} and my age is {self.age}. I am studying in {self._class} and my roll no is {self._rollno}')\n",
    "    \n",
    "a = student('Suraj', 'Kedari', 21, 'T.Y BE', 12)\n",
    "b = student('Srushti', 'Raskar', 19, 'T.Y BE', 34)\n",
    "\n",
    "b.details()\n",
    "a.studdetails()"
   ]
  },
  {
   "cell_type": "markdown",
   "id": "a6979e18-ba66-466f-acf7-e7acc8c308c9",
   "metadata": {},
   "source": [
    "## Scope of variable\n",
    "There are two types of scopes\n",
    "1. Local scope : Variables defined inside a function have a local scope. They can only be accessed within that function. Once the function completes execution, the local variables are destroyed, and their names are no longer accessible. Attempting to access a local variable from outside its defining function will result in an error.\n"
   ]
  },
  {
   "cell_type": "code",
   "execution_count": 37,
   "id": "90c6d87f-dc35-4664-886a-60aa30988184",
   "metadata": {},
   "outputs": [
    {
     "name": "stdout",
     "output_type": "stream",
     "text": [
      "200\n"
     ]
    }
   ],
   "source": [
    "# Local scope\n",
    "# the values that are inside the function are called local values\n",
    "\n",
    "def myfun():\n",
    "    x = 200\n",
    "    print(x)\n",
    "    \n",
    "myfun()"
   ]
  },
  {
   "cell_type": "markdown",
   "id": "ae41b512-62cc-4ffe-9f3e-0eaab7e27159",
   "metadata": {},
   "source": [
    "2. Global Scope: Variables defined outside of any function or in the global scope have global scope. They can be accessed and modified from anywhere in the program, including within functions. However, if you want to modify a global variable from within a function, you need to use the global keyword to explicitly declare it."
   ]
  },
  {
   "cell_type": "code",
   "execution_count": 36,
   "id": "267cc791-30c8-407c-8ad6-16cc4eae33a1",
   "metadata": {},
   "outputs": [
    {
     "name": "stdout",
     "output_type": "stream",
     "text": [
      "100\n"
     ]
    }
   ],
   "source": [
    "# Global scope\n",
    "# the values that are outside the function are called global values\n",
    "x = 100\n",
    "\n",
    "def myfun():\n",
    "    print(x)\n",
    "    \n",
    "myfun()"
   ]
  },
  {
   "cell_type": "code",
   "execution_count": 39,
   "id": "40f51ec8-99cd-4568-8c30-a7780df41086",
   "metadata": {},
   "outputs": [
    {
     "name": "stdout",
     "output_type": "stream",
     "text": [
      "200\n",
      "300\n"
     ]
    }
   ],
   "source": [
    "# Global and local scope in one function\n",
    "\n",
    "x = 300 # Global scope\n",
    "\n",
    "def myfun():\n",
    "    x = 200 # Local scope\n",
    "    print(x)\n",
    "\n",
    "myfun()\n",
    "print(x)"
   ]
  },
  {
   "cell_type": "code",
   "execution_count": 40,
   "id": "0a716184-3151-476b-b1c0-fffd37a6d19a",
   "metadata": {},
   "outputs": [
    {
     "name": "stdout",
     "output_type": "stream",
     "text": [
      "230\n"
     ]
    }
   ],
   "source": [
    "# Global keyword\n",
    "\n",
    "def my_fun():\n",
    "    \n",
    "    global x\n",
    "    x = 230\n",
    "    print(x)\n",
    "    \n",
    "my_fun()"
   ]
  },
  {
   "cell_type": "code",
   "execution_count": 41,
   "id": "c3855d98-18db-474d-a58e-1fd18ecfd078",
   "metadata": {},
   "outputs": [
    {
     "name": "stdout",
     "output_type": "stream",
     "text": [
      "500\n",
      "500\n"
     ]
    }
   ],
   "source": [
    "# You can also use global keyword if you want to make a change to a global variable inside a function\n",
    "\n",
    "x = 450\n",
    "\n",
    "def myfunc():\n",
    "    \n",
    "    global x\n",
    "    x = 500\n",
    "    print(x)\n",
    "\n",
    "myfunc()  \n",
    "print(x)# original value of x was 450 but after using global keyword it changes to 500"
   ]
  },
  {
   "cell_type": "markdown",
   "id": "7ffeddb2-0dde-489e-9534-cec5b8f476f6",
   "metadata": {},
   "source": [
    "## Module"
   ]
  },
  {
   "cell_type": "code",
   "execution_count": 42,
   "id": "364b4e8d-df75-4645-82f2-645a318b31f3",
   "metadata": {},
   "outputs": [
    {
     "name": "stdout",
     "output_type": "stream",
     "text": [
      "Windows\n"
     ]
    }
   ],
   "source": [
    "import platform\n",
    "\n",
    "x = platform.system()\n",
    "print(x)"
   ]
  },
  {
   "cell_type": "markdown",
   "id": "7f0e7417-6534-47b6-9676-6ecc1be1bf54",
   "metadata": {},
   "source": [
    "## Datetime module"
   ]
  },
  {
   "cell_type": "code",
   "execution_count": 43,
   "id": "e903ed66-4afc-4d31-be38-2825394bf21b",
   "metadata": {},
   "outputs": [
    {
     "name": "stdout",
     "output_type": "stream",
     "text": [
      "2024-02-23 13:57:31.766445\n"
     ]
    }
   ],
   "source": [
    "import datetime as dt\n",
    "\n",
    "x = dt.datetime.now()\n",
    "print(x)"
   ]
  },
  {
   "cell_type": "code",
   "execution_count": 44,
   "id": "9b53c702-2b61-44f5-b644-88ec9b5d5a5f",
   "metadata": {},
   "outputs": [
    {
     "name": "stdout",
     "output_type": "stream",
     "text": [
      "9999 \n",
      "\n",
      "1\n"
     ]
    }
   ],
   "source": [
    "import datetime\n",
    "\n",
    "print(datetime.MAXYEAR,'\\n')\n",
    "\n",
    "print(datetime.MINYEAR)"
   ]
  },
  {
   "cell_type": "code",
   "execution_count": 45,
   "id": "c2bd5bcb-270e-4249-a4a8-dce7302b1b36",
   "metadata": {},
   "outputs": [
    {
     "name": "stdout",
     "output_type": "stream",
     "text": [
      "23\n",
      "2024\n",
      "2\n",
      "Friday\n",
      "13\n",
      "01\n",
      "PM\n"
     ]
    }
   ],
   "source": [
    "x = dt.datetime.now()\n",
    "\n",
    "print(x.day)\n",
    "print(x.year)\n",
    "print(x.month)\n",
    "print(x.strftime('%A')) #Day\n",
    "print(x.strftime('%H')) #0-23\n",
    "print(x.strftime('%I')) #0-12\n",
    "print(x.strftime('%p')) #AM-PM"
   ]
  },
  {
   "cell_type": "code",
   "execution_count": 46,
   "id": "03655f98-9586-4f29-b6fa-11329e302dcc",
   "metadata": {},
   "outputs": [
    {
     "name": "stdout",
     "output_type": "stream",
     "text": [
      "2024-02-29 00:00:00\n"
     ]
    }
   ],
   "source": [
    "z = dt.datetime(2024, 2, 29)\n",
    "\n",
    "print(z)"
   ]
  },
  {
   "cell_type": "markdown",
   "id": "bd05b2c2-24d5-42f5-a0ac-4fd51d67067f",
   "metadata": {},
   "source": [
    "## Python math functions"
   ]
  },
  {
   "cell_type": "code",
   "execution_count": 47,
   "id": "649482ab-f00b-48e0-8403-c07e099f91b1",
   "metadata": {},
   "outputs": [
    {
     "name": "stdout",
     "output_type": "stream",
     "text": [
      "67\n"
     ]
    }
   ],
   "source": [
    "# Returns minimum value\n",
    "x = min(100,67,890,456,544,234,5322)\n",
    "\n",
    "print(x)"
   ]
  },
  {
   "cell_type": "code",
   "execution_count": 48,
   "id": "4db64e50-06fc-4005-8e76-a94f76c93caf",
   "metadata": {},
   "outputs": [
    {
     "name": "stdout",
     "output_type": "stream",
     "text": [
      "5322\n"
     ]
    }
   ],
   "source": [
    "# Returns maximum value\n",
    "x = max(100,67,890,456,544,234,5322)\n",
    "\n",
    "print(x)"
   ]
  },
  {
   "cell_type": "code",
   "execution_count": 49,
   "id": "6a5817b6-19c4-4e3a-bb17-86df64344d10",
   "metadata": {},
   "outputs": [
    {
     "name": "stdout",
     "output_type": "stream",
     "text": [
      "679\n"
     ]
    }
   ],
   "source": [
    "# Returns absolute positive value\n",
    "x = abs(-679)\n",
    "\n",
    "print(x)"
   ]
  },
  {
   "cell_type": "code",
   "execution_count": 50,
   "id": "a49d4afe-fa12-4c6b-80dd-3c37248b4a8f",
   "metadata": {},
   "outputs": [
    {
     "name": "stdout",
     "output_type": "stream",
     "text": [
      "531441\n"
     ]
    }
   ],
   "source": [
    "# Power function\n",
    "x = pow(9,6)\n",
    "\n",
    "print(x)"
   ]
  },
  {
   "cell_type": "markdown",
   "id": "b9647729-9227-498d-a860-6b65052ef37b",
   "metadata": {},
   "source": [
    "## Math module\n",
    "The math module in Python provides a set of mathematical functions for performing mathematical operations. It is part of the Python Standard Library, so it comes pre-installed with Python and does not require any additional installation. You can import and use it in your Python programs using the 'import' statement"
   ]
  },
  {
   "cell_type": "code",
   "execution_count": 51,
   "id": "391b4400-f10b-4c5e-915c-ffc7e84f0ed9",
   "metadata": {},
   "outputs": [
    {
     "name": "stdout",
     "output_type": "stream",
     "text": [
      "3.0\n",
      "24\n",
      "5\n",
      "3.141592653589793\n",
      "148.4131591025766\n"
     ]
    }
   ],
   "source": [
    "import math \n",
    "\n",
    "a = math.sqrt(9)\n",
    "print(a)\n",
    "\n",
    "b = math.factorial(4)\n",
    "print(b)\n",
    "\n",
    "c = math.ceil(4.1)\n",
    "print(c)\n",
    "\n",
    "d = math.pi\n",
    "print(d)\n",
    "\n",
    "e = math.exp(5)\n",
    "print(e)"
   ]
  },
  {
   "cell_type": "markdown",
   "id": "aa7570ae-fb63-49f7-ba97-2cf96178d36c",
   "metadata": {},
   "source": [
    "## JSON module\n",
    "\n",
    "JavaScript Object Notation "
   ]
  },
  {
   "cell_type": "code",
   "execution_count": 57,
   "id": "594ffe98-03d9-4cf1-960b-a97129b53b50",
   "metadata": {},
   "outputs": [
    {
     "name": "stdout",
     "output_type": "stream",
     "text": [
      "{\"name\": \"Suraj\", \"age\": 22, \"class\": \"T.Y BE\", \"roll no\": 17, \"owns laptop\": true, \"owns gaming pc\": false, \"favourite movie\": null, \"favourite anime\": [{\"1st anime\": \"Naruto\", \"character\": \"Naruto\"}, {\"2nd anime\": \"One Piece\", \"character\": \"Luffy\"}]}\n",
      "<class 'str'> \n",
      "\n",
      "{'name': 'Suraj', 'age': 22, 'class': 'T.Y BE', 'roll no': 17, 'owns laptop': True, 'owns gaming pc': False, 'favourite movie': None, 'favourite anime': [{'1st anime': 'Naruto', 'character': 'Naruto'}, {'2nd anime': 'One Piece', 'character': 'Luffy'}]}\n",
      "<class 'dict'>\n"
     ]
    }
   ],
   "source": [
    "# JSON to object\n",
    "import json\n",
    "#JSON\n",
    "a = '{\"name\": \"Suraj\", \"age\": 22, \"class\": \"T.Y BE\", \"roll no\": 17, \"owns laptop\": true, \"owns gaming pc\": false, \"favourite movie\": null, \"favourite anime\": [{\"1st anime\": \"Naruto\", \"character\": \"Naruto\"}, {\"2nd anime\": \"One Piece\", \"character\": \"Luffy\"}]}'\n",
    "\n",
    "print(a)\n",
    "print(type(a),'\\n')\n",
    "\n",
    "b = json.loads(a)\n",
    "print(b)\n",
    "print(type(b))"
   ]
  },
  {
   "cell_type": "code",
   "execution_count": 59,
   "id": "16a67316-aaa5-40bc-989a-487a74b76c39",
   "metadata": {},
   "outputs": [
    {
     "name": "stdout",
     "output_type": "stream",
     "text": [
      "{'name': 'Suraj', 'age': 22, 'class': 'T.Y BE', 'roll no': 17, 'owns laptop': True, 'owns gaming pc': False, 'favourite movie': None, 'favourite anime': [{'1st anime': 'Naruto', 'character': 'Naruto'}, {'2nd anime': 'One Piece', 'character': 'Luffy'}]}\n",
      "<class 'dict'> \n",
      "\n",
      "{\n",
      " \"name\": \"Suraj\",\n",
      " \"age\": 22,\n",
      " \"class\": \"T.Y BE\",\n",
      " \"roll no\": 17,\n",
      " \"owns laptop\": true,\n",
      " \"owns gaming pc\": false,\n",
      " \"favourite movie\": null,\n",
      " \"favourite anime\": [\n",
      "  {\n",
      "   \"1st anime\": \"Naruto\",\n",
      "   \"character\": \"Naruto\"\n",
      "  },\n",
      "  {\n",
      "   \"2nd anime\": \"One Piece\",\n",
      "   \"character\": \"Luffy\"\n",
      "  }\n",
      " ]\n",
      "}\n",
      "<class 'str'>\n"
     ]
    }
   ],
   "source": [
    "# object(dict) to JSON\n",
    "import json\n",
    "# Object\n",
    "x = {\n",
    "    'name' : 'Suraj',\n",
    "    'age' : 22,\n",
    "    'class' : 'T.Y BE',\n",
    "    'roll no' : 17,\n",
    "    'owns laptop' : True,\n",
    "    'owns gaming pc' : False,\n",
    "    'favourite movie' : None,\n",
    "    'favourite anime' : [\n",
    "        {'1st anime' : 'Naruto', 'character' : 'Naruto'},\n",
    "        {'2nd anime' : 'One Piece', 'character' : 'Luffy'}\n",
    "    ]\n",
    "}\n",
    "\n",
    "print(x)\n",
    "print(type(x),'\\n')\n",
    "\n",
    "y = json.dumps(x,indent = 1)\n",
    "print(y)\n",
    "print(type(y))"
   ]
  },
  {
   "cell_type": "code",
   "execution_count": 60,
   "id": "3c1dae76-2538-4d53-b0d2-fe1d158723a1",
   "metadata": {},
   "outputs": [
    {
     "name": "stdout",
     "output_type": "stream",
     "text": [
      "[1, 2, 3, 4, 5, 6, \"hii\", \"hello\", 2.3, 33.4]\n",
      "<class 'str'>\n"
     ]
    }
   ],
   "source": [
    "import json\n",
    "\n",
    "a = (1,2,3,4,5,6,'hii','hello',2.3,33.4)\n",
    "\n",
    "b = json.dumps(a)\n",
    "print(b)\n",
    "print(type(b))"
   ]
  },
  {
   "cell_type": "code",
   "execution_count": 61,
   "id": "1300b9e0-72a0-43ab-87ce-d76cedd01b3c",
   "metadata": {},
   "outputs": [
    {
     "name": "stdout",
     "output_type": "stream",
     "text": [
      "[1, 2, 3, 'hii']\n",
      "<class 'list'>\n"
     ]
    }
   ],
   "source": [
    "import json\n",
    "\n",
    "x = '[1,2,3,\"hii\"]'\n",
    "\n",
    "y = json.loads(x)\n",
    "print(y)\n",
    "print(type(y))"
   ]
  },
  {
   "cell_type": "markdown",
   "id": "bda644f6-acd0-4cc0-b621-3464ffdc9bff",
   "metadata": {},
   "source": [
    "## Exception Handling\n",
    "* Exception handling in Python allows you to gracefully handle errors or exceptional situations that occur during the execution of your program. By handling exceptions, you can prevent your program from crashing and provide appropriate responses or fallback behavior when something unexpected happens."
   ]
  },
  {
   "cell_type": "code",
   "execution_count": 62,
   "id": "69158035-2bd5-4fe0-a163-9a2d78172ee5",
   "metadata": {},
   "outputs": [
    {
     "name": "stdin",
     "output_type": "stream",
     "text": [
      "Enter a number:  12\n"
     ]
    },
    {
     "name": "stdout",
     "output_type": "stream",
     "text": [
      "Hello world..!\n"
     ]
    }
   ],
   "source": [
    "while True:\n",
    "    try:\n",
    "        x = int(input('Enter a number: '))\n",
    "        break\n",
    "    except ValueError:\n",
    "        print('Wrong input')\n",
    "        \n",
    "print(\"Hello world..!\")"
   ]
  },
  {
   "cell_type": "markdown",
   "id": "ff37a0ca-f1e5-40cf-b4f3-d4d60abae9d5",
   "metadata": {},
   "source": [
    "## Formatting\n",
    "* Formatting in Python typically refers to formatting strings, where you manipulate strings to present data in a desired way. Python provides several methods for string formatting, each with its own advantages and use cases. Here, I'll cover three commonly used methods: string concatenation, %-formatting, and f-strings."
   ]
  },
  {
   "cell_type": "code",
   "execution_count": 1,
   "id": "78a12b15-c29c-428e-96c9-ae949a2b6860",
   "metadata": {},
   "outputs": [
    {
     "name": "stdout",
     "output_type": "stream",
     "text": [
      "The value of that bottle is 100.00\n"
     ]
    }
   ],
   "source": [
    "price = 100\n",
    "\n",
    "x = 'The value of that bottle is {:.2f}'\n",
    "\n",
    "print(x.format(price))"
   ]
  },
  {
   "cell_type": "code",
   "execution_count": 2,
   "id": "f74a0204-ede3-46d8-b001-e43d249aaa62",
   "metadata": {},
   "outputs": [
    {
     "name": "stdout",
     "output_type": "stream",
     "text": [
      "His name is Sumit. Sumit's age is 22\n"
     ]
    }
   ],
   "source": [
    "a = 22\n",
    "b = 'Sumit'\n",
    "\n",
    "print(\"His name is {1}. {1}'s age is {0}\".format(a,b))"
   ]
  },
  {
   "cell_type": "code",
   "execution_count": 8,
   "id": "3a325551-9ec5-4d76-a046-5f6cac5d2ef5",
   "metadata": {},
   "outputs": [
    {
     "name": "stdout",
     "output_type": "stream",
     "text": [
      "I love Animal, my fvourite character from Animal is \"Zoya\" \n"
     ]
    }
   ],
   "source": [
    "a = \"I love {movie}, my fvourite character from {movie} is {character} \"\n",
    "print(a.format(movie = 'Animal', character = '\"Zoya\"'))"
   ]
  },
  {
   "cell_type": "markdown",
   "id": "4402d9da-e001-4c21-b457-925db405f040",
   "metadata": {},
   "source": [
    "## File Handeling\n",
    "* File handling in Python involves performing operations on files, such as reading from them, writing to them, and manipulating their contents. Python provides built-in functions and methods for file handling, making it easy to work with files in your programs."
   ]
  },
  {
   "cell_type": "code",
   "execution_count": null,
   "id": "7ed01efa-271b-4d10-8575-7b13607aae8f",
   "metadata": {},
   "outputs": [],
   "source": []
  }
 ],
 "metadata": {
  "kernelspec": {
   "display_name": "Python 3 (ipykernel)",
   "language": "python",
   "name": "python3"
  },
  "language_info": {
   "codemirror_mode": {
    "name": "ipython",
    "version": 3
   },
   "file_extension": ".py",
   "mimetype": "text/x-python",
   "name": "python",
   "nbconvert_exporter": "python",
   "pygments_lexer": "ipython3",
   "version": "3.11.5"
  }
 },
 "nbformat": 4,
 "nbformat_minor": 5
}
